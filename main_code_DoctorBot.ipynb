{
  "nbformat": 4,
  "nbformat_minor": 0,
  "metadata": {
    "colab": {
      "provenance": [],
      "authorship_tag": "ABX9TyMkSyU1+gwqZSVQ/nSNZAuj",
      "include_colab_link": true
    },
    "kernelspec": {
      "name": "python3",
      "display_name": "Python 3"
    },
    "language_info": {
      "name": "python"
    },
    "widgets": {
      "application/vnd.jupyter.widget-state+json": {
        "6ffa8b8772084bdbb5372c7dcafef3ba": {
          "model_module": "@jupyter-widgets/controls",
          "model_name": "HBoxModel",
          "model_module_version": "1.5.0",
          "state": {
            "_dom_classes": [],
            "_model_module": "@jupyter-widgets/controls",
            "_model_module_version": "1.5.0",
            "_model_name": "HBoxModel",
            "_view_count": null,
            "_view_module": "@jupyter-widgets/controls",
            "_view_module_version": "1.5.0",
            "_view_name": "HBoxView",
            "box_style": "",
            "children": [
              "IPY_MODEL_04757d43198b4f8d83901ca489a41c4a",
              "IPY_MODEL_335ce9a33385412cbe378b1f36e269de",
              "IPY_MODEL_c7c92c28a2974366b8c0ece2c09c4a97"
            ],
            "layout": "IPY_MODEL_4afa6c0f6230469f82de0df7fdd4d835"
          }
        },
        "04757d43198b4f8d83901ca489a41c4a": {
          "model_module": "@jupyter-widgets/controls",
          "model_name": "HTMLModel",
          "model_module_version": "1.5.0",
          "state": {
            "_dom_classes": [],
            "_model_module": "@jupyter-widgets/controls",
            "_model_module_version": "1.5.0",
            "_model_name": "HTMLModel",
            "_view_count": null,
            "_view_module": "@jupyter-widgets/controls",
            "_view_module_version": "1.5.0",
            "_view_name": "HTMLView",
            "description": "",
            "description_tooltip": null,
            "layout": "IPY_MODEL_f3f99b96522c42168836cf16dbed0c33",
            "placeholder": "​",
            "style": "IPY_MODEL_fca1f03fd8ca4986897f60bb2c420c4c",
            "value": "tokenizer_config.json: 100%"
          }
        },
        "335ce9a33385412cbe378b1f36e269de": {
          "model_module": "@jupyter-widgets/controls",
          "model_name": "FloatProgressModel",
          "model_module_version": "1.5.0",
          "state": {
            "_dom_classes": [],
            "_model_module": "@jupyter-widgets/controls",
            "_model_module_version": "1.5.0",
            "_model_name": "FloatProgressModel",
            "_view_count": null,
            "_view_module": "@jupyter-widgets/controls",
            "_view_module_version": "1.5.0",
            "_view_name": "ProgressView",
            "bar_style": "success",
            "description": "",
            "description_tooltip": null,
            "layout": "IPY_MODEL_4ecb42f3bd60410b886a2ec54e7d8e36",
            "max": 298,
            "min": 0,
            "orientation": "horizontal",
            "style": "IPY_MODEL_6b5582b3d200443abfe0bb3777611500",
            "value": 298
          }
        },
        "c7c92c28a2974366b8c0ece2c09c4a97": {
          "model_module": "@jupyter-widgets/controls",
          "model_name": "HTMLModel",
          "model_module_version": "1.5.0",
          "state": {
            "_dom_classes": [],
            "_model_module": "@jupyter-widgets/controls",
            "_model_module_version": "1.5.0",
            "_model_name": "HTMLModel",
            "_view_count": null,
            "_view_module": "@jupyter-widgets/controls",
            "_view_module_version": "1.5.0",
            "_view_name": "HTMLView",
            "description": "",
            "description_tooltip": null,
            "layout": "IPY_MODEL_1ba6f11ca80c42f582f44f262d5607f2",
            "placeholder": "​",
            "style": "IPY_MODEL_b23c5a43361d40d6ba02861ace4f279f",
            "value": " 298/298 [00:00&lt;00:00, 20.9kB/s]"
          }
        },
        "4afa6c0f6230469f82de0df7fdd4d835": {
          "model_module": "@jupyter-widgets/base",
          "model_name": "LayoutModel",
          "model_module_version": "1.2.0",
          "state": {
            "_model_module": "@jupyter-widgets/base",
            "_model_module_version": "1.2.0",
            "_model_name": "LayoutModel",
            "_view_count": null,
            "_view_module": "@jupyter-widgets/base",
            "_view_module_version": "1.2.0",
            "_view_name": "LayoutView",
            "align_content": null,
            "align_items": null,
            "align_self": null,
            "border": null,
            "bottom": null,
            "display": null,
            "flex": null,
            "flex_flow": null,
            "grid_area": null,
            "grid_auto_columns": null,
            "grid_auto_flow": null,
            "grid_auto_rows": null,
            "grid_column": null,
            "grid_gap": null,
            "grid_row": null,
            "grid_template_areas": null,
            "grid_template_columns": null,
            "grid_template_rows": null,
            "height": null,
            "justify_content": null,
            "justify_items": null,
            "left": null,
            "margin": null,
            "max_height": null,
            "max_width": null,
            "min_height": null,
            "min_width": null,
            "object_fit": null,
            "object_position": null,
            "order": null,
            "overflow": null,
            "overflow_x": null,
            "overflow_y": null,
            "padding": null,
            "right": null,
            "top": null,
            "visibility": null,
            "width": null
          }
        },
        "f3f99b96522c42168836cf16dbed0c33": {
          "model_module": "@jupyter-widgets/base",
          "model_name": "LayoutModel",
          "model_module_version": "1.2.0",
          "state": {
            "_model_module": "@jupyter-widgets/base",
            "_model_module_version": "1.2.0",
            "_model_name": "LayoutModel",
            "_view_count": null,
            "_view_module": "@jupyter-widgets/base",
            "_view_module_version": "1.2.0",
            "_view_name": "LayoutView",
            "align_content": null,
            "align_items": null,
            "align_self": null,
            "border": null,
            "bottom": null,
            "display": null,
            "flex": null,
            "flex_flow": null,
            "grid_area": null,
            "grid_auto_columns": null,
            "grid_auto_flow": null,
            "grid_auto_rows": null,
            "grid_column": null,
            "grid_gap": null,
            "grid_row": null,
            "grid_template_areas": null,
            "grid_template_columns": null,
            "grid_template_rows": null,
            "height": null,
            "justify_content": null,
            "justify_items": null,
            "left": null,
            "margin": null,
            "max_height": null,
            "max_width": null,
            "min_height": null,
            "min_width": null,
            "object_fit": null,
            "object_position": null,
            "order": null,
            "overflow": null,
            "overflow_x": null,
            "overflow_y": null,
            "padding": null,
            "right": null,
            "top": null,
            "visibility": null,
            "width": null
          }
        },
        "fca1f03fd8ca4986897f60bb2c420c4c": {
          "model_module": "@jupyter-widgets/controls",
          "model_name": "DescriptionStyleModel",
          "model_module_version": "1.5.0",
          "state": {
            "_model_module": "@jupyter-widgets/controls",
            "_model_module_version": "1.5.0",
            "_model_name": "DescriptionStyleModel",
            "_view_count": null,
            "_view_module": "@jupyter-widgets/base",
            "_view_module_version": "1.2.0",
            "_view_name": "StyleView",
            "description_width": ""
          }
        },
        "4ecb42f3bd60410b886a2ec54e7d8e36": {
          "model_module": "@jupyter-widgets/base",
          "model_name": "LayoutModel",
          "model_module_version": "1.2.0",
          "state": {
            "_model_module": "@jupyter-widgets/base",
            "_model_module_version": "1.2.0",
            "_model_name": "LayoutModel",
            "_view_count": null,
            "_view_module": "@jupyter-widgets/base",
            "_view_module_version": "1.2.0",
            "_view_name": "LayoutView",
            "align_content": null,
            "align_items": null,
            "align_self": null,
            "border": null,
            "bottom": null,
            "display": null,
            "flex": null,
            "flex_flow": null,
            "grid_area": null,
            "grid_auto_columns": null,
            "grid_auto_flow": null,
            "grid_auto_rows": null,
            "grid_column": null,
            "grid_gap": null,
            "grid_row": null,
            "grid_template_areas": null,
            "grid_template_columns": null,
            "grid_template_rows": null,
            "height": null,
            "justify_content": null,
            "justify_items": null,
            "left": null,
            "margin": null,
            "max_height": null,
            "max_width": null,
            "min_height": null,
            "min_width": null,
            "object_fit": null,
            "object_position": null,
            "order": null,
            "overflow": null,
            "overflow_x": null,
            "overflow_y": null,
            "padding": null,
            "right": null,
            "top": null,
            "visibility": null,
            "width": null
          }
        },
        "6b5582b3d200443abfe0bb3777611500": {
          "model_module": "@jupyter-widgets/controls",
          "model_name": "ProgressStyleModel",
          "model_module_version": "1.5.0",
          "state": {
            "_model_module": "@jupyter-widgets/controls",
            "_model_module_version": "1.5.0",
            "_model_name": "ProgressStyleModel",
            "_view_count": null,
            "_view_module": "@jupyter-widgets/base",
            "_view_module_version": "1.2.0",
            "_view_name": "StyleView",
            "bar_color": null,
            "description_width": ""
          }
        },
        "1ba6f11ca80c42f582f44f262d5607f2": {
          "model_module": "@jupyter-widgets/base",
          "model_name": "LayoutModel",
          "model_module_version": "1.2.0",
          "state": {
            "_model_module": "@jupyter-widgets/base",
            "_model_module_version": "1.2.0",
            "_model_name": "LayoutModel",
            "_view_count": null,
            "_view_module": "@jupyter-widgets/base",
            "_view_module_version": "1.2.0",
            "_view_name": "LayoutView",
            "align_content": null,
            "align_items": null,
            "align_self": null,
            "border": null,
            "bottom": null,
            "display": null,
            "flex": null,
            "flex_flow": null,
            "grid_area": null,
            "grid_auto_columns": null,
            "grid_auto_flow": null,
            "grid_auto_rows": null,
            "grid_column": null,
            "grid_gap": null,
            "grid_row": null,
            "grid_template_areas": null,
            "grid_template_columns": null,
            "grid_template_rows": null,
            "height": null,
            "justify_content": null,
            "justify_items": null,
            "left": null,
            "margin": null,
            "max_height": null,
            "max_width": null,
            "min_height": null,
            "min_width": null,
            "object_fit": null,
            "object_position": null,
            "order": null,
            "overflow": null,
            "overflow_x": null,
            "overflow_y": null,
            "padding": null,
            "right": null,
            "top": null,
            "visibility": null,
            "width": null
          }
        },
        "b23c5a43361d40d6ba02861ace4f279f": {
          "model_module": "@jupyter-widgets/controls",
          "model_name": "DescriptionStyleModel",
          "model_module_version": "1.5.0",
          "state": {
            "_model_module": "@jupyter-widgets/controls",
            "_model_module_version": "1.5.0",
            "_model_name": "DescriptionStyleModel",
            "_view_count": null,
            "_view_module": "@jupyter-widgets/base",
            "_view_module_version": "1.2.0",
            "_view_name": "StyleView",
            "description_width": ""
          }
        },
        "d3061565441646cf842d8e7a9010fb34": {
          "model_module": "@jupyter-widgets/controls",
          "model_name": "HBoxModel",
          "model_module_version": "1.5.0",
          "state": {
            "_dom_classes": [],
            "_model_module": "@jupyter-widgets/controls",
            "_model_module_version": "1.5.0",
            "_model_name": "HBoxModel",
            "_view_count": null,
            "_view_module": "@jupyter-widgets/controls",
            "_view_module_version": "1.5.0",
            "_view_name": "HBoxView",
            "box_style": "",
            "children": [
              "IPY_MODEL_024a1c53b5ea4ea49dc637a0b56d558e",
              "IPY_MODEL_92505806c2574e68afb0224b3b7a0462",
              "IPY_MODEL_d17b50d60b3344fc9f23a32b6d9f8f57"
            ],
            "layout": "IPY_MODEL_e4202f19bf634d55aa9728b88312ec21"
          }
        },
        "024a1c53b5ea4ea49dc637a0b56d558e": {
          "model_module": "@jupyter-widgets/controls",
          "model_name": "HTMLModel",
          "model_module_version": "1.5.0",
          "state": {
            "_dom_classes": [],
            "_model_module": "@jupyter-widgets/controls",
            "_model_module_version": "1.5.0",
            "_model_name": "HTMLModel",
            "_view_count": null,
            "_view_module": "@jupyter-widgets/controls",
            "_view_module_version": "1.5.0",
            "_view_name": "HTMLView",
            "description": "",
            "description_tooltip": null,
            "layout": "IPY_MODEL_a743898d335a4f0ca1d4e6633011fa24",
            "placeholder": "​",
            "style": "IPY_MODEL_4cffedd831624af79d81bbb308a86629",
            "value": "config.json: 100%"
          }
        },
        "92505806c2574e68afb0224b3b7a0462": {
          "model_module": "@jupyter-widgets/controls",
          "model_name": "FloatProgressModel",
          "model_module_version": "1.5.0",
          "state": {
            "_dom_classes": [],
            "_model_module": "@jupyter-widgets/controls",
            "_model_module_version": "1.5.0",
            "_model_name": "FloatProgressModel",
            "_view_count": null,
            "_view_module": "@jupyter-widgets/controls",
            "_view_module_version": "1.5.0",
            "_view_name": "ProgressView",
            "bar_style": "success",
            "description": "",
            "description_tooltip": null,
            "layout": "IPY_MODEL_9469d7cd1aac411e8c890919c3596d1f",
            "max": 908,
            "min": 0,
            "orientation": "horizontal",
            "style": "IPY_MODEL_f5fbf3d02912417eb4a26d463e3948a0",
            "value": 908
          }
        },
        "d17b50d60b3344fc9f23a32b6d9f8f57": {
          "model_module": "@jupyter-widgets/controls",
          "model_name": "HTMLModel",
          "model_module_version": "1.5.0",
          "state": {
            "_dom_classes": [],
            "_model_module": "@jupyter-widgets/controls",
            "_model_module_version": "1.5.0",
            "_model_name": "HTMLModel",
            "_view_count": null,
            "_view_module": "@jupyter-widgets/controls",
            "_view_module_version": "1.5.0",
            "_view_name": "HTMLView",
            "description": "",
            "description_tooltip": null,
            "layout": "IPY_MODEL_6925c7dc8c0b456394897fcedf8473b9",
            "placeholder": "​",
            "style": "IPY_MODEL_9b24673dc9e64fad88bcee18b29fa8e1",
            "value": " 908/908 [00:00&lt;00:00, 81.1kB/s]"
          }
        },
        "e4202f19bf634d55aa9728b88312ec21": {
          "model_module": "@jupyter-widgets/base",
          "model_name": "LayoutModel",
          "model_module_version": "1.2.0",
          "state": {
            "_model_module": "@jupyter-widgets/base",
            "_model_module_version": "1.2.0",
            "_model_name": "LayoutModel",
            "_view_count": null,
            "_view_module": "@jupyter-widgets/base",
            "_view_module_version": "1.2.0",
            "_view_name": "LayoutView",
            "align_content": null,
            "align_items": null,
            "align_self": null,
            "border": null,
            "bottom": null,
            "display": null,
            "flex": null,
            "flex_flow": null,
            "grid_area": null,
            "grid_auto_columns": null,
            "grid_auto_flow": null,
            "grid_auto_rows": null,
            "grid_column": null,
            "grid_gap": null,
            "grid_row": null,
            "grid_template_areas": null,
            "grid_template_columns": null,
            "grid_template_rows": null,
            "height": null,
            "justify_content": null,
            "justify_items": null,
            "left": null,
            "margin": null,
            "max_height": null,
            "max_width": null,
            "min_height": null,
            "min_width": null,
            "object_fit": null,
            "object_position": null,
            "order": null,
            "overflow": null,
            "overflow_x": null,
            "overflow_y": null,
            "padding": null,
            "right": null,
            "top": null,
            "visibility": null,
            "width": null
          }
        },
        "a743898d335a4f0ca1d4e6633011fa24": {
          "model_module": "@jupyter-widgets/base",
          "model_name": "LayoutModel",
          "model_module_version": "1.2.0",
          "state": {
            "_model_module": "@jupyter-widgets/base",
            "_model_module_version": "1.2.0",
            "_model_name": "LayoutModel",
            "_view_count": null,
            "_view_module": "@jupyter-widgets/base",
            "_view_module_version": "1.2.0",
            "_view_name": "LayoutView",
            "align_content": null,
            "align_items": null,
            "align_self": null,
            "border": null,
            "bottom": null,
            "display": null,
            "flex": null,
            "flex_flow": null,
            "grid_area": null,
            "grid_auto_columns": null,
            "grid_auto_flow": null,
            "grid_auto_rows": null,
            "grid_column": null,
            "grid_gap": null,
            "grid_row": null,
            "grid_template_areas": null,
            "grid_template_columns": null,
            "grid_template_rows": null,
            "height": null,
            "justify_content": null,
            "justify_items": null,
            "left": null,
            "margin": null,
            "max_height": null,
            "max_width": null,
            "min_height": null,
            "min_width": null,
            "object_fit": null,
            "object_position": null,
            "order": null,
            "overflow": null,
            "overflow_x": null,
            "overflow_y": null,
            "padding": null,
            "right": null,
            "top": null,
            "visibility": null,
            "width": null
          }
        },
        "4cffedd831624af79d81bbb308a86629": {
          "model_module": "@jupyter-widgets/controls",
          "model_name": "DescriptionStyleModel",
          "model_module_version": "1.5.0",
          "state": {
            "_model_module": "@jupyter-widgets/controls",
            "_model_module_version": "1.5.0",
            "_model_name": "DescriptionStyleModel",
            "_view_count": null,
            "_view_module": "@jupyter-widgets/base",
            "_view_module_version": "1.2.0",
            "_view_name": "StyleView",
            "description_width": ""
          }
        },
        "9469d7cd1aac411e8c890919c3596d1f": {
          "model_module": "@jupyter-widgets/base",
          "model_name": "LayoutModel",
          "model_module_version": "1.2.0",
          "state": {
            "_model_module": "@jupyter-widgets/base",
            "_model_module_version": "1.2.0",
            "_model_name": "LayoutModel",
            "_view_count": null,
            "_view_module": "@jupyter-widgets/base",
            "_view_module_version": "1.2.0",
            "_view_name": "LayoutView",
            "align_content": null,
            "align_items": null,
            "align_self": null,
            "border": null,
            "bottom": null,
            "display": null,
            "flex": null,
            "flex_flow": null,
            "grid_area": null,
            "grid_auto_columns": null,
            "grid_auto_flow": null,
            "grid_auto_rows": null,
            "grid_column": null,
            "grid_gap": null,
            "grid_row": null,
            "grid_template_areas": null,
            "grid_template_columns": null,
            "grid_template_rows": null,
            "height": null,
            "justify_content": null,
            "justify_items": null,
            "left": null,
            "margin": null,
            "max_height": null,
            "max_width": null,
            "min_height": null,
            "min_width": null,
            "object_fit": null,
            "object_position": null,
            "order": null,
            "overflow": null,
            "overflow_x": null,
            "overflow_y": null,
            "padding": null,
            "right": null,
            "top": null,
            "visibility": null,
            "width": null
          }
        },
        "f5fbf3d02912417eb4a26d463e3948a0": {
          "model_module": "@jupyter-widgets/controls",
          "model_name": "ProgressStyleModel",
          "model_module_version": "1.5.0",
          "state": {
            "_model_module": "@jupyter-widgets/controls",
            "_model_module_version": "1.5.0",
            "_model_name": "ProgressStyleModel",
            "_view_count": null,
            "_view_module": "@jupyter-widgets/base",
            "_view_module_version": "1.2.0",
            "_view_name": "StyleView",
            "bar_color": null,
            "description_width": ""
          }
        },
        "6925c7dc8c0b456394897fcedf8473b9": {
          "model_module": "@jupyter-widgets/base",
          "model_name": "LayoutModel",
          "model_module_version": "1.2.0",
          "state": {
            "_model_module": "@jupyter-widgets/base",
            "_model_module_version": "1.2.0",
            "_model_name": "LayoutModel",
            "_view_count": null,
            "_view_module": "@jupyter-widgets/base",
            "_view_module_version": "1.2.0",
            "_view_name": "LayoutView",
            "align_content": null,
            "align_items": null,
            "align_self": null,
            "border": null,
            "bottom": null,
            "display": null,
            "flex": null,
            "flex_flow": null,
            "grid_area": null,
            "grid_auto_columns": null,
            "grid_auto_flow": null,
            "grid_auto_rows": null,
            "grid_column": null,
            "grid_gap": null,
            "grid_row": null,
            "grid_template_areas": null,
            "grid_template_columns": null,
            "grid_template_rows": null,
            "height": null,
            "justify_content": null,
            "justify_items": null,
            "left": null,
            "margin": null,
            "max_height": null,
            "max_width": null,
            "min_height": null,
            "min_width": null,
            "object_fit": null,
            "object_position": null,
            "order": null,
            "overflow": null,
            "overflow_x": null,
            "overflow_y": null,
            "padding": null,
            "right": null,
            "top": null,
            "visibility": null,
            "width": null
          }
        },
        "9b24673dc9e64fad88bcee18b29fa8e1": {
          "model_module": "@jupyter-widgets/controls",
          "model_name": "DescriptionStyleModel",
          "model_module_version": "1.5.0",
          "state": {
            "_model_module": "@jupyter-widgets/controls",
            "_model_module_version": "1.5.0",
            "_model_name": "DescriptionStyleModel",
            "_view_count": null,
            "_view_module": "@jupyter-widgets/base",
            "_view_module_version": "1.2.0",
            "_view_name": "StyleView",
            "description_width": ""
          }
        },
        "eef1399bcbb64531acf6a050dc2dc86a": {
          "model_module": "@jupyter-widgets/controls",
          "model_name": "HBoxModel",
          "model_module_version": "1.5.0",
          "state": {
            "_dom_classes": [],
            "_model_module": "@jupyter-widgets/controls",
            "_model_module_version": "1.5.0",
            "_model_name": "HBoxModel",
            "_view_count": null,
            "_view_module": "@jupyter-widgets/controls",
            "_view_module_version": "1.5.0",
            "_view_name": "HBoxView",
            "box_style": "",
            "children": [
              "IPY_MODEL_4ea14c71da084a539d84b780c0fbc724",
              "IPY_MODEL_11802f25994145c5969bed7b8ef85e0e",
              "IPY_MODEL_356172650f934d42be2794fddc0fa049"
            ],
            "layout": "IPY_MODEL_689efeefbc1047cd980ded93e71643f3"
          }
        },
        "4ea14c71da084a539d84b780c0fbc724": {
          "model_module": "@jupyter-widgets/controls",
          "model_name": "HTMLModel",
          "model_module_version": "1.5.0",
          "state": {
            "_dom_classes": [],
            "_model_module": "@jupyter-widgets/controls",
            "_model_module_version": "1.5.0",
            "_model_name": "HTMLModel",
            "_view_count": null,
            "_view_module": "@jupyter-widgets/controls",
            "_view_module_version": "1.5.0",
            "_view_name": "HTMLView",
            "description": "",
            "description_tooltip": null,
            "layout": "IPY_MODEL_bd80e2f79721415ca3abf259ac742168",
            "placeholder": "​",
            "style": "IPY_MODEL_26c69de5ab9640e8a2c4a9a3c0691218",
            "value": "vocab.json: 100%"
          }
        },
        "11802f25994145c5969bed7b8ef85e0e": {
          "model_module": "@jupyter-widgets/controls",
          "model_name": "FloatProgressModel",
          "model_module_version": "1.5.0",
          "state": {
            "_dom_classes": [],
            "_model_module": "@jupyter-widgets/controls",
            "_model_module_version": "1.5.0",
            "_model_name": "FloatProgressModel",
            "_view_count": null,
            "_view_module": "@jupyter-widgets/controls",
            "_view_module_version": "1.5.0",
            "_view_name": "ProgressView",
            "bar_style": "success",
            "description": "",
            "description_tooltip": null,
            "layout": "IPY_MODEL_9f369982b1b04a758a0c1c775bce8fcc",
            "max": 3708092,
            "min": 0,
            "orientation": "horizontal",
            "style": "IPY_MODEL_cb62e3f04c17460da8844053e2a7cc6d",
            "value": 3708092
          }
        },
        "356172650f934d42be2794fddc0fa049": {
          "model_module": "@jupyter-widgets/controls",
          "model_name": "HTMLModel",
          "model_module_version": "1.5.0",
          "state": {
            "_dom_classes": [],
            "_model_module": "@jupyter-widgets/controls",
            "_model_module_version": "1.5.0",
            "_model_name": "HTMLModel",
            "_view_count": null,
            "_view_module": "@jupyter-widgets/controls",
            "_view_module_version": "1.5.0",
            "_view_name": "HTMLView",
            "description": "",
            "description_tooltip": null,
            "layout": "IPY_MODEL_2b2ea2c7ab454e88b1e21525d38645a1",
            "placeholder": "​",
            "style": "IPY_MODEL_5a6b9042d47e40feb6efbaf96499d3de",
            "value": " 3.71M/3.71M [00:00&lt;00:00, 14.8MB/s]"
          }
        },
        "689efeefbc1047cd980ded93e71643f3": {
          "model_module": "@jupyter-widgets/base",
          "model_name": "LayoutModel",
          "model_module_version": "1.2.0",
          "state": {
            "_model_module": "@jupyter-widgets/base",
            "_model_module_version": "1.2.0",
            "_model_name": "LayoutModel",
            "_view_count": null,
            "_view_module": "@jupyter-widgets/base",
            "_view_module_version": "1.2.0",
            "_view_name": "LayoutView",
            "align_content": null,
            "align_items": null,
            "align_self": null,
            "border": null,
            "bottom": null,
            "display": null,
            "flex": null,
            "flex_flow": null,
            "grid_area": null,
            "grid_auto_columns": null,
            "grid_auto_flow": null,
            "grid_auto_rows": null,
            "grid_column": null,
            "grid_gap": null,
            "grid_row": null,
            "grid_template_areas": null,
            "grid_template_columns": null,
            "grid_template_rows": null,
            "height": null,
            "justify_content": null,
            "justify_items": null,
            "left": null,
            "margin": null,
            "max_height": null,
            "max_width": null,
            "min_height": null,
            "min_width": null,
            "object_fit": null,
            "object_position": null,
            "order": null,
            "overflow": null,
            "overflow_x": null,
            "overflow_y": null,
            "padding": null,
            "right": null,
            "top": null,
            "visibility": null,
            "width": null
          }
        },
        "bd80e2f79721415ca3abf259ac742168": {
          "model_module": "@jupyter-widgets/base",
          "model_name": "LayoutModel",
          "model_module_version": "1.2.0",
          "state": {
            "_model_module": "@jupyter-widgets/base",
            "_model_module_version": "1.2.0",
            "_model_name": "LayoutModel",
            "_view_count": null,
            "_view_module": "@jupyter-widgets/base",
            "_view_module_version": "1.2.0",
            "_view_name": "LayoutView",
            "align_content": null,
            "align_items": null,
            "align_self": null,
            "border": null,
            "bottom": null,
            "display": null,
            "flex": null,
            "flex_flow": null,
            "grid_area": null,
            "grid_auto_columns": null,
            "grid_auto_flow": null,
            "grid_auto_rows": null,
            "grid_column": null,
            "grid_gap": null,
            "grid_row": null,
            "grid_template_areas": null,
            "grid_template_columns": null,
            "grid_template_rows": null,
            "height": null,
            "justify_content": null,
            "justify_items": null,
            "left": null,
            "margin": null,
            "max_height": null,
            "max_width": null,
            "min_height": null,
            "min_width": null,
            "object_fit": null,
            "object_position": null,
            "order": null,
            "overflow": null,
            "overflow_x": null,
            "overflow_y": null,
            "padding": null,
            "right": null,
            "top": null,
            "visibility": null,
            "width": null
          }
        },
        "26c69de5ab9640e8a2c4a9a3c0691218": {
          "model_module": "@jupyter-widgets/controls",
          "model_name": "DescriptionStyleModel",
          "model_module_version": "1.5.0",
          "state": {
            "_model_module": "@jupyter-widgets/controls",
            "_model_module_version": "1.5.0",
            "_model_name": "DescriptionStyleModel",
            "_view_count": null,
            "_view_module": "@jupyter-widgets/base",
            "_view_module_version": "1.2.0",
            "_view_name": "StyleView",
            "description_width": ""
          }
        },
        "9f369982b1b04a758a0c1c775bce8fcc": {
          "model_module": "@jupyter-widgets/base",
          "model_name": "LayoutModel",
          "model_module_version": "1.2.0",
          "state": {
            "_model_module": "@jupyter-widgets/base",
            "_model_module_version": "1.2.0",
            "_model_name": "LayoutModel",
            "_view_count": null,
            "_view_module": "@jupyter-widgets/base",
            "_view_module_version": "1.2.0",
            "_view_name": "LayoutView",
            "align_content": null,
            "align_items": null,
            "align_self": null,
            "border": null,
            "bottom": null,
            "display": null,
            "flex": null,
            "flex_flow": null,
            "grid_area": null,
            "grid_auto_columns": null,
            "grid_auto_flow": null,
            "grid_auto_rows": null,
            "grid_column": null,
            "grid_gap": null,
            "grid_row": null,
            "grid_template_areas": null,
            "grid_template_columns": null,
            "grid_template_rows": null,
            "height": null,
            "justify_content": null,
            "justify_items": null,
            "left": null,
            "margin": null,
            "max_height": null,
            "max_width": null,
            "min_height": null,
            "min_width": null,
            "object_fit": null,
            "object_position": null,
            "order": null,
            "overflow": null,
            "overflow_x": null,
            "overflow_y": null,
            "padding": null,
            "right": null,
            "top": null,
            "visibility": null,
            "width": null
          }
        },
        "cb62e3f04c17460da8844053e2a7cc6d": {
          "model_module": "@jupyter-widgets/controls",
          "model_name": "ProgressStyleModel",
          "model_module_version": "1.5.0",
          "state": {
            "_model_module": "@jupyter-widgets/controls",
            "_model_module_version": "1.5.0",
            "_model_name": "ProgressStyleModel",
            "_view_count": null,
            "_view_module": "@jupyter-widgets/base",
            "_view_module_version": "1.2.0",
            "_view_name": "StyleView",
            "bar_color": null,
            "description_width": ""
          }
        },
        "2b2ea2c7ab454e88b1e21525d38645a1": {
          "model_module": "@jupyter-widgets/base",
          "model_name": "LayoutModel",
          "model_module_version": "1.2.0",
          "state": {
            "_model_module": "@jupyter-widgets/base",
            "_model_module_version": "1.2.0",
            "_model_name": "LayoutModel",
            "_view_count": null,
            "_view_module": "@jupyter-widgets/base",
            "_view_module_version": "1.2.0",
            "_view_name": "LayoutView",
            "align_content": null,
            "align_items": null,
            "align_self": null,
            "border": null,
            "bottom": null,
            "display": null,
            "flex": null,
            "flex_flow": null,
            "grid_area": null,
            "grid_auto_columns": null,
            "grid_auto_flow": null,
            "grid_auto_rows": null,
            "grid_column": null,
            "grid_gap": null,
            "grid_row": null,
            "grid_template_areas": null,
            "grid_template_columns": null,
            "grid_template_rows": null,
            "height": null,
            "justify_content": null,
            "justify_items": null,
            "left": null,
            "margin": null,
            "max_height": null,
            "max_width": null,
            "min_height": null,
            "min_width": null,
            "object_fit": null,
            "object_position": null,
            "order": null,
            "overflow": null,
            "overflow_x": null,
            "overflow_y": null,
            "padding": null,
            "right": null,
            "top": null,
            "visibility": null,
            "width": null
          }
        },
        "5a6b9042d47e40feb6efbaf96499d3de": {
          "model_module": "@jupyter-widgets/controls",
          "model_name": "DescriptionStyleModel",
          "model_module_version": "1.5.0",
          "state": {
            "_model_module": "@jupyter-widgets/controls",
            "_model_module_version": "1.5.0",
            "_model_name": "DescriptionStyleModel",
            "_view_count": null,
            "_view_module": "@jupyter-widgets/base",
            "_view_module_version": "1.2.0",
            "_view_name": "StyleView",
            "description_width": ""
          }
        },
        "4aa2a835351c4025a1cef79bf3bb944c": {
          "model_module": "@jupyter-widgets/controls",
          "model_name": "HBoxModel",
          "model_module_version": "1.5.0",
          "state": {
            "_dom_classes": [],
            "_model_module": "@jupyter-widgets/controls",
            "_model_module_version": "1.5.0",
            "_model_name": "HBoxModel",
            "_view_count": null,
            "_view_module": "@jupyter-widgets/controls",
            "_view_module_version": "1.5.0",
            "_view_name": "HBoxView",
            "box_style": "",
            "children": [
              "IPY_MODEL_a751443c1dbf46d59641ff83e7a1dcf8",
              "IPY_MODEL_310d136aba64484bb7f0284330afcd20",
              "IPY_MODEL_86d11878fe7843d59fd3138a072d0a67"
            ],
            "layout": "IPY_MODEL_4dc1dcee5edb49ee9958577d0067e10a"
          }
        },
        "a751443c1dbf46d59641ff83e7a1dcf8": {
          "model_module": "@jupyter-widgets/controls",
          "model_name": "HTMLModel",
          "model_module_version": "1.5.0",
          "state": {
            "_dom_classes": [],
            "_model_module": "@jupyter-widgets/controls",
            "_model_module_version": "1.5.0",
            "_model_name": "HTMLModel",
            "_view_count": null,
            "_view_module": "@jupyter-widgets/controls",
            "_view_module_version": "1.5.0",
            "_view_name": "HTMLView",
            "description": "",
            "description_tooltip": null,
            "layout": "IPY_MODEL_70e8abe6eeef442eb822768c9e6f8571",
            "placeholder": "​",
            "style": "IPY_MODEL_7892b7094e774b32886f85f130bc9041",
            "value": "sentencepiece.bpe.model: 100%"
          }
        },
        "310d136aba64484bb7f0284330afcd20": {
          "model_module": "@jupyter-widgets/controls",
          "model_name": "FloatProgressModel",
          "model_module_version": "1.5.0",
          "state": {
            "_dom_classes": [],
            "_model_module": "@jupyter-widgets/controls",
            "_model_module_version": "1.5.0",
            "_model_name": "FloatProgressModel",
            "_view_count": null,
            "_view_module": "@jupyter-widgets/controls",
            "_view_module_version": "1.5.0",
            "_view_name": "ProgressView",
            "bar_style": "success",
            "description": "",
            "description_tooltip": null,
            "layout": "IPY_MODEL_cbddabc26ece436b989a3fee8ca0f7cf",
            "max": 2423393,
            "min": 0,
            "orientation": "horizontal",
            "style": "IPY_MODEL_2d21a124ee064a2fafab9f4ed6183868",
            "value": 2423393
          }
        },
        "86d11878fe7843d59fd3138a072d0a67": {
          "model_module": "@jupyter-widgets/controls",
          "model_name": "HTMLModel",
          "model_module_version": "1.5.0",
          "state": {
            "_dom_classes": [],
            "_model_module": "@jupyter-widgets/controls",
            "_model_module_version": "1.5.0",
            "_model_name": "HTMLModel",
            "_view_count": null,
            "_view_module": "@jupyter-widgets/controls",
            "_view_module_version": "1.5.0",
            "_view_name": "HTMLView",
            "description": "",
            "description_tooltip": null,
            "layout": "IPY_MODEL_7c00adfdc34a4f3dbc69bfd0f7ea4e65",
            "placeholder": "​",
            "style": "IPY_MODEL_d2c132360d054cc0ab901edb95489735",
            "value": " 2.42M/2.42M [00:00&lt;00:00, 15.2MB/s]"
          }
        },
        "4dc1dcee5edb49ee9958577d0067e10a": {
          "model_module": "@jupyter-widgets/base",
          "model_name": "LayoutModel",
          "model_module_version": "1.2.0",
          "state": {
            "_model_module": "@jupyter-widgets/base",
            "_model_module_version": "1.2.0",
            "_model_name": "LayoutModel",
            "_view_count": null,
            "_view_module": "@jupyter-widgets/base",
            "_view_module_version": "1.2.0",
            "_view_name": "LayoutView",
            "align_content": null,
            "align_items": null,
            "align_self": null,
            "border": null,
            "bottom": null,
            "display": null,
            "flex": null,
            "flex_flow": null,
            "grid_area": null,
            "grid_auto_columns": null,
            "grid_auto_flow": null,
            "grid_auto_rows": null,
            "grid_column": null,
            "grid_gap": null,
            "grid_row": null,
            "grid_template_areas": null,
            "grid_template_columns": null,
            "grid_template_rows": null,
            "height": null,
            "justify_content": null,
            "justify_items": null,
            "left": null,
            "margin": null,
            "max_height": null,
            "max_width": null,
            "min_height": null,
            "min_width": null,
            "object_fit": null,
            "object_position": null,
            "order": null,
            "overflow": null,
            "overflow_x": null,
            "overflow_y": null,
            "padding": null,
            "right": null,
            "top": null,
            "visibility": null,
            "width": null
          }
        },
        "70e8abe6eeef442eb822768c9e6f8571": {
          "model_module": "@jupyter-widgets/base",
          "model_name": "LayoutModel",
          "model_module_version": "1.2.0",
          "state": {
            "_model_module": "@jupyter-widgets/base",
            "_model_module_version": "1.2.0",
            "_model_name": "LayoutModel",
            "_view_count": null,
            "_view_module": "@jupyter-widgets/base",
            "_view_module_version": "1.2.0",
            "_view_name": "LayoutView",
            "align_content": null,
            "align_items": null,
            "align_self": null,
            "border": null,
            "bottom": null,
            "display": null,
            "flex": null,
            "flex_flow": null,
            "grid_area": null,
            "grid_auto_columns": null,
            "grid_auto_flow": null,
            "grid_auto_rows": null,
            "grid_column": null,
            "grid_gap": null,
            "grid_row": null,
            "grid_template_areas": null,
            "grid_template_columns": null,
            "grid_template_rows": null,
            "height": null,
            "justify_content": null,
            "justify_items": null,
            "left": null,
            "margin": null,
            "max_height": null,
            "max_width": null,
            "min_height": null,
            "min_width": null,
            "object_fit": null,
            "object_position": null,
            "order": null,
            "overflow": null,
            "overflow_x": null,
            "overflow_y": null,
            "padding": null,
            "right": null,
            "top": null,
            "visibility": null,
            "width": null
          }
        },
        "7892b7094e774b32886f85f130bc9041": {
          "model_module": "@jupyter-widgets/controls",
          "model_name": "DescriptionStyleModel",
          "model_module_version": "1.5.0",
          "state": {
            "_model_module": "@jupyter-widgets/controls",
            "_model_module_version": "1.5.0",
            "_model_name": "DescriptionStyleModel",
            "_view_count": null,
            "_view_module": "@jupyter-widgets/base",
            "_view_module_version": "1.2.0",
            "_view_name": "StyleView",
            "description_width": ""
          }
        },
        "cbddabc26ece436b989a3fee8ca0f7cf": {
          "model_module": "@jupyter-widgets/base",
          "model_name": "LayoutModel",
          "model_module_version": "1.2.0",
          "state": {
            "_model_module": "@jupyter-widgets/base",
            "_model_module_version": "1.2.0",
            "_model_name": "LayoutModel",
            "_view_count": null,
            "_view_module": "@jupyter-widgets/base",
            "_view_module_version": "1.2.0",
            "_view_name": "LayoutView",
            "align_content": null,
            "align_items": null,
            "align_self": null,
            "border": null,
            "bottom": null,
            "display": null,
            "flex": null,
            "flex_flow": null,
            "grid_area": null,
            "grid_auto_columns": null,
            "grid_auto_flow": null,
            "grid_auto_rows": null,
            "grid_column": null,
            "grid_gap": null,
            "grid_row": null,
            "grid_template_areas": null,
            "grid_template_columns": null,
            "grid_template_rows": null,
            "height": null,
            "justify_content": null,
            "justify_items": null,
            "left": null,
            "margin": null,
            "max_height": null,
            "max_width": null,
            "min_height": null,
            "min_width": null,
            "object_fit": null,
            "object_position": null,
            "order": null,
            "overflow": null,
            "overflow_x": null,
            "overflow_y": null,
            "padding": null,
            "right": null,
            "top": null,
            "visibility": null,
            "width": null
          }
        },
        "2d21a124ee064a2fafab9f4ed6183868": {
          "model_module": "@jupyter-widgets/controls",
          "model_name": "ProgressStyleModel",
          "model_module_version": "1.5.0",
          "state": {
            "_model_module": "@jupyter-widgets/controls",
            "_model_module_version": "1.5.0",
            "_model_name": "ProgressStyleModel",
            "_view_count": null,
            "_view_module": "@jupyter-widgets/base",
            "_view_module_version": "1.2.0",
            "_view_name": "StyleView",
            "bar_color": null,
            "description_width": ""
          }
        },
        "7c00adfdc34a4f3dbc69bfd0f7ea4e65": {
          "model_module": "@jupyter-widgets/base",
          "model_name": "LayoutModel",
          "model_module_version": "1.2.0",
          "state": {
            "_model_module": "@jupyter-widgets/base",
            "_model_module_version": "1.2.0",
            "_model_name": "LayoutModel",
            "_view_count": null,
            "_view_module": "@jupyter-widgets/base",
            "_view_module_version": "1.2.0",
            "_view_name": "LayoutView",
            "align_content": null,
            "align_items": null,
            "align_self": null,
            "border": null,
            "bottom": null,
            "display": null,
            "flex": null,
            "flex_flow": null,
            "grid_area": null,
            "grid_auto_columns": null,
            "grid_auto_flow": null,
            "grid_auto_rows": null,
            "grid_column": null,
            "grid_gap": null,
            "grid_row": null,
            "grid_template_areas": null,
            "grid_template_columns": null,
            "grid_template_rows": null,
            "height": null,
            "justify_content": null,
            "justify_items": null,
            "left": null,
            "margin": null,
            "max_height": null,
            "max_width": null,
            "min_height": null,
            "min_width": null,
            "object_fit": null,
            "object_position": null,
            "order": null,
            "overflow": null,
            "overflow_x": null,
            "overflow_y": null,
            "padding": null,
            "right": null,
            "top": null,
            "visibility": null,
            "width": null
          }
        },
        "d2c132360d054cc0ab901edb95489735": {
          "model_module": "@jupyter-widgets/controls",
          "model_name": "DescriptionStyleModel",
          "model_module_version": "1.5.0",
          "state": {
            "_model_module": "@jupyter-widgets/controls",
            "_model_module_version": "1.5.0",
            "_model_name": "DescriptionStyleModel",
            "_view_count": null,
            "_view_module": "@jupyter-widgets/base",
            "_view_module_version": "1.2.0",
            "_view_name": "StyleView",
            "description_width": ""
          }
        },
        "e78ba4bed2bf4ae3845cb9c02307ec9e": {
          "model_module": "@jupyter-widgets/controls",
          "model_name": "HBoxModel",
          "model_module_version": "1.5.0",
          "state": {
            "_dom_classes": [],
            "_model_module": "@jupyter-widgets/controls",
            "_model_module_version": "1.5.0",
            "_model_name": "HBoxModel",
            "_view_count": null,
            "_view_module": "@jupyter-widgets/controls",
            "_view_module_version": "1.5.0",
            "_view_name": "HBoxView",
            "box_style": "",
            "children": [
              "IPY_MODEL_18b9fac1794d4ebc8312c40a5a68f925",
              "IPY_MODEL_f51fa4ed27cd43928b2c1ff81727e74c",
              "IPY_MODEL_6d584471dbae4b62a0f1b19c2d404c6a"
            ],
            "layout": "IPY_MODEL_c895c2b4f7f149efb62ff0e1c2a8d478"
          }
        },
        "18b9fac1794d4ebc8312c40a5a68f925": {
          "model_module": "@jupyter-widgets/controls",
          "model_name": "HTMLModel",
          "model_module_version": "1.5.0",
          "state": {
            "_dom_classes": [],
            "_model_module": "@jupyter-widgets/controls",
            "_model_module_version": "1.5.0",
            "_model_name": "HTMLModel",
            "_view_count": null,
            "_view_module": "@jupyter-widgets/controls",
            "_view_module_version": "1.5.0",
            "_view_name": "HTMLView",
            "description": "",
            "description_tooltip": null,
            "layout": "IPY_MODEL_60410b7eb53c4d83b58ac70a46f73be0",
            "placeholder": "​",
            "style": "IPY_MODEL_c7a5d9303df84938b568775de7865d41",
            "value": "special_tokens_map.json: 100%"
          }
        },
        "f51fa4ed27cd43928b2c1ff81727e74c": {
          "model_module": "@jupyter-widgets/controls",
          "model_name": "FloatProgressModel",
          "model_module_version": "1.5.0",
          "state": {
            "_dom_classes": [],
            "_model_module": "@jupyter-widgets/controls",
            "_model_module_version": "1.5.0",
            "_model_name": "FloatProgressModel",
            "_view_count": null,
            "_view_module": "@jupyter-widgets/controls",
            "_view_module_version": "1.5.0",
            "_view_name": "ProgressView",
            "bar_style": "success",
            "description": "",
            "description_tooltip": null,
            "layout": "IPY_MODEL_1dd15479f5184be3b2a23edc28ec7039",
            "max": 1140,
            "min": 0,
            "orientation": "horizontal",
            "style": "IPY_MODEL_a6f11f6f4b9444919df0de30d4a9b128",
            "value": 1140
          }
        },
        "6d584471dbae4b62a0f1b19c2d404c6a": {
          "model_module": "@jupyter-widgets/controls",
          "model_name": "HTMLModel",
          "model_module_version": "1.5.0",
          "state": {
            "_dom_classes": [],
            "_model_module": "@jupyter-widgets/controls",
            "_model_module_version": "1.5.0",
            "_model_name": "HTMLModel",
            "_view_count": null,
            "_view_module": "@jupyter-widgets/controls",
            "_view_module_version": "1.5.0",
            "_view_name": "HTMLView",
            "description": "",
            "description_tooltip": null,
            "layout": "IPY_MODEL_09b45a4f7a7c45c194ec2df1ef1c75ec",
            "placeholder": "​",
            "style": "IPY_MODEL_004d1c70fd6b4877b767be6f9a3bc566",
            "value": " 1.14k/1.14k [00:00&lt;00:00, 101kB/s]"
          }
        },
        "c895c2b4f7f149efb62ff0e1c2a8d478": {
          "model_module": "@jupyter-widgets/base",
          "model_name": "LayoutModel",
          "model_module_version": "1.2.0",
          "state": {
            "_model_module": "@jupyter-widgets/base",
            "_model_module_version": "1.2.0",
            "_model_name": "LayoutModel",
            "_view_count": null,
            "_view_module": "@jupyter-widgets/base",
            "_view_module_version": "1.2.0",
            "_view_name": "LayoutView",
            "align_content": null,
            "align_items": null,
            "align_self": null,
            "border": null,
            "bottom": null,
            "display": null,
            "flex": null,
            "flex_flow": null,
            "grid_area": null,
            "grid_auto_columns": null,
            "grid_auto_flow": null,
            "grid_auto_rows": null,
            "grid_column": null,
            "grid_gap": null,
            "grid_row": null,
            "grid_template_areas": null,
            "grid_template_columns": null,
            "grid_template_rows": null,
            "height": null,
            "justify_content": null,
            "justify_items": null,
            "left": null,
            "margin": null,
            "max_height": null,
            "max_width": null,
            "min_height": null,
            "min_width": null,
            "object_fit": null,
            "object_position": null,
            "order": null,
            "overflow": null,
            "overflow_x": null,
            "overflow_y": null,
            "padding": null,
            "right": null,
            "top": null,
            "visibility": null,
            "width": null
          }
        },
        "60410b7eb53c4d83b58ac70a46f73be0": {
          "model_module": "@jupyter-widgets/base",
          "model_name": "LayoutModel",
          "model_module_version": "1.2.0",
          "state": {
            "_model_module": "@jupyter-widgets/base",
            "_model_module_version": "1.2.0",
            "_model_name": "LayoutModel",
            "_view_count": null,
            "_view_module": "@jupyter-widgets/base",
            "_view_module_version": "1.2.0",
            "_view_name": "LayoutView",
            "align_content": null,
            "align_items": null,
            "align_self": null,
            "border": null,
            "bottom": null,
            "display": null,
            "flex": null,
            "flex_flow": null,
            "grid_area": null,
            "grid_auto_columns": null,
            "grid_auto_flow": null,
            "grid_auto_rows": null,
            "grid_column": null,
            "grid_gap": null,
            "grid_row": null,
            "grid_template_areas": null,
            "grid_template_columns": null,
            "grid_template_rows": null,
            "height": null,
            "justify_content": null,
            "justify_items": null,
            "left": null,
            "margin": null,
            "max_height": null,
            "max_width": null,
            "min_height": null,
            "min_width": null,
            "object_fit": null,
            "object_position": null,
            "order": null,
            "overflow": null,
            "overflow_x": null,
            "overflow_y": null,
            "padding": null,
            "right": null,
            "top": null,
            "visibility": null,
            "width": null
          }
        },
        "c7a5d9303df84938b568775de7865d41": {
          "model_module": "@jupyter-widgets/controls",
          "model_name": "DescriptionStyleModel",
          "model_module_version": "1.5.0",
          "state": {
            "_model_module": "@jupyter-widgets/controls",
            "_model_module_version": "1.5.0",
            "_model_name": "DescriptionStyleModel",
            "_view_count": null,
            "_view_module": "@jupyter-widgets/base",
            "_view_module_version": "1.2.0",
            "_view_name": "StyleView",
            "description_width": ""
          }
        },
        "1dd15479f5184be3b2a23edc28ec7039": {
          "model_module": "@jupyter-widgets/base",
          "model_name": "LayoutModel",
          "model_module_version": "1.2.0",
          "state": {
            "_model_module": "@jupyter-widgets/base",
            "_model_module_version": "1.2.0",
            "_model_name": "LayoutModel",
            "_view_count": null,
            "_view_module": "@jupyter-widgets/base",
            "_view_module_version": "1.2.0",
            "_view_name": "LayoutView",
            "align_content": null,
            "align_items": null,
            "align_self": null,
            "border": null,
            "bottom": null,
            "display": null,
            "flex": null,
            "flex_flow": null,
            "grid_area": null,
            "grid_auto_columns": null,
            "grid_auto_flow": null,
            "grid_auto_rows": null,
            "grid_column": null,
            "grid_gap": null,
            "grid_row": null,
            "grid_template_areas": null,
            "grid_template_columns": null,
            "grid_template_rows": null,
            "height": null,
            "justify_content": null,
            "justify_items": null,
            "left": null,
            "margin": null,
            "max_height": null,
            "max_width": null,
            "min_height": null,
            "min_width": null,
            "object_fit": null,
            "object_position": null,
            "order": null,
            "overflow": null,
            "overflow_x": null,
            "overflow_y": null,
            "padding": null,
            "right": null,
            "top": null,
            "visibility": null,
            "width": null
          }
        },
        "a6f11f6f4b9444919df0de30d4a9b128": {
          "model_module": "@jupyter-widgets/controls",
          "model_name": "ProgressStyleModel",
          "model_module_version": "1.5.0",
          "state": {
            "_model_module": "@jupyter-widgets/controls",
            "_model_module_version": "1.5.0",
            "_model_name": "ProgressStyleModel",
            "_view_count": null,
            "_view_module": "@jupyter-widgets/base",
            "_view_module_version": "1.2.0",
            "_view_name": "StyleView",
            "bar_color": null,
            "description_width": ""
          }
        },
        "09b45a4f7a7c45c194ec2df1ef1c75ec": {
          "model_module": "@jupyter-widgets/base",
          "model_name": "LayoutModel",
          "model_module_version": "1.2.0",
          "state": {
            "_model_module": "@jupyter-widgets/base",
            "_model_module_version": "1.2.0",
            "_model_name": "LayoutModel",
            "_view_count": null,
            "_view_module": "@jupyter-widgets/base",
            "_view_module_version": "1.2.0",
            "_view_name": "LayoutView",
            "align_content": null,
            "align_items": null,
            "align_self": null,
            "border": null,
            "bottom": null,
            "display": null,
            "flex": null,
            "flex_flow": null,
            "grid_area": null,
            "grid_auto_columns": null,
            "grid_auto_flow": null,
            "grid_auto_rows": null,
            "grid_column": null,
            "grid_gap": null,
            "grid_row": null,
            "grid_template_areas": null,
            "grid_template_columns": null,
            "grid_template_rows": null,
            "height": null,
            "justify_content": null,
            "justify_items": null,
            "left": null,
            "margin": null,
            "max_height": null,
            "max_width": null,
            "min_height": null,
            "min_width": null,
            "object_fit": null,
            "object_position": null,
            "order": null,
            "overflow": null,
            "overflow_x": null,
            "overflow_y": null,
            "padding": null,
            "right": null,
            "top": null,
            "visibility": null,
            "width": null
          }
        },
        "004d1c70fd6b4877b767be6f9a3bc566": {
          "model_module": "@jupyter-widgets/controls",
          "model_name": "DescriptionStyleModel",
          "model_module_version": "1.5.0",
          "state": {
            "_model_module": "@jupyter-widgets/controls",
            "_model_module_version": "1.5.0",
            "_model_name": "DescriptionStyleModel",
            "_view_count": null,
            "_view_module": "@jupyter-widgets/base",
            "_view_module_version": "1.2.0",
            "_view_name": "StyleView",
            "description_width": ""
          }
        },
        "0a8436fe7eed42a58c56e12f11958fb1": {
          "model_module": "@jupyter-widgets/controls",
          "model_name": "HBoxModel",
          "model_module_version": "1.5.0",
          "state": {
            "_dom_classes": [],
            "_model_module": "@jupyter-widgets/controls",
            "_model_module_version": "1.5.0",
            "_model_name": "HBoxModel",
            "_view_count": null,
            "_view_module": "@jupyter-widgets/controls",
            "_view_module_version": "1.5.0",
            "_view_name": "HBoxView",
            "box_style": "",
            "children": [
              "IPY_MODEL_ed466a22d6ab4e4b8dcbc2d5b99bba19",
              "IPY_MODEL_2c5399c93dc3442c93df66e77d71f518",
              "IPY_MODEL_9fdb9f29fa3c4e709b1e1404368b259f"
            ],
            "layout": "IPY_MODEL_4cdd0f85924f4fc588c7459c7c18bb47"
          }
        },
        "ed466a22d6ab4e4b8dcbc2d5b99bba19": {
          "model_module": "@jupyter-widgets/controls",
          "model_name": "HTMLModel",
          "model_module_version": "1.5.0",
          "state": {
            "_dom_classes": [],
            "_model_module": "@jupyter-widgets/controls",
            "_model_module_version": "1.5.0",
            "_model_name": "HTMLModel",
            "_view_count": null,
            "_view_module": "@jupyter-widgets/controls",
            "_view_module_version": "1.5.0",
            "_view_name": "HTMLView",
            "description": "",
            "description_tooltip": null,
            "layout": "IPY_MODEL_12b3b58874ff4b8b949c5b8a9347f3a7",
            "placeholder": "​",
            "style": "IPY_MODEL_55b119f2402747f7969aa5e1f94e1021",
            "value": "pytorch_model.bin: 100%"
          }
        },
        "2c5399c93dc3442c93df66e77d71f518": {
          "model_module": "@jupyter-widgets/controls",
          "model_name": "FloatProgressModel",
          "model_module_version": "1.5.0",
          "state": {
            "_dom_classes": [],
            "_model_module": "@jupyter-widgets/controls",
            "_model_module_version": "1.5.0",
            "_model_name": "FloatProgressModel",
            "_view_count": null,
            "_view_module": "@jupyter-widgets/controls",
            "_view_module_version": "1.5.0",
            "_view_name": "ProgressView",
            "bar_style": "success",
            "description": "",
            "description_tooltip": null,
            "layout": "IPY_MODEL_bc6dc5e0cfa246e88da3e8a8b2349ee1",
            "max": 1935796948,
            "min": 0,
            "orientation": "horizontal",
            "style": "IPY_MODEL_72c3b2a6a9624ee0a55c138aa346c549",
            "value": 1935796948
          }
        },
        "9fdb9f29fa3c4e709b1e1404368b259f": {
          "model_module": "@jupyter-widgets/controls",
          "model_name": "HTMLModel",
          "model_module_version": "1.5.0",
          "state": {
            "_dom_classes": [],
            "_model_module": "@jupyter-widgets/controls",
            "_model_module_version": "1.5.0",
            "_model_name": "HTMLModel",
            "_view_count": null,
            "_view_module": "@jupyter-widgets/controls",
            "_view_module_version": "1.5.0",
            "_view_name": "HTMLView",
            "description": "",
            "description_tooltip": null,
            "layout": "IPY_MODEL_f9b8e18cba1b40e58b1fb265f784fdfe",
            "placeholder": "​",
            "style": "IPY_MODEL_cf40c54fb5c0492b90e0a0e8b2b14009",
            "value": " 1.94G/1.94G [01:41&lt;00:00, 19.0MB/s]"
          }
        },
        "4cdd0f85924f4fc588c7459c7c18bb47": {
          "model_module": "@jupyter-widgets/base",
          "model_name": "LayoutModel",
          "model_module_version": "1.2.0",
          "state": {
            "_model_module": "@jupyter-widgets/base",
            "_model_module_version": "1.2.0",
            "_model_name": "LayoutModel",
            "_view_count": null,
            "_view_module": "@jupyter-widgets/base",
            "_view_module_version": "1.2.0",
            "_view_name": "LayoutView",
            "align_content": null,
            "align_items": null,
            "align_self": null,
            "border": null,
            "bottom": null,
            "display": null,
            "flex": null,
            "flex_flow": null,
            "grid_area": null,
            "grid_auto_columns": null,
            "grid_auto_flow": null,
            "grid_auto_rows": null,
            "grid_column": null,
            "grid_gap": null,
            "grid_row": null,
            "grid_template_areas": null,
            "grid_template_columns": null,
            "grid_template_rows": null,
            "height": null,
            "justify_content": null,
            "justify_items": null,
            "left": null,
            "margin": null,
            "max_height": null,
            "max_width": null,
            "min_height": null,
            "min_width": null,
            "object_fit": null,
            "object_position": null,
            "order": null,
            "overflow": null,
            "overflow_x": null,
            "overflow_y": null,
            "padding": null,
            "right": null,
            "top": null,
            "visibility": null,
            "width": null
          }
        },
        "12b3b58874ff4b8b949c5b8a9347f3a7": {
          "model_module": "@jupyter-widgets/base",
          "model_name": "LayoutModel",
          "model_module_version": "1.2.0",
          "state": {
            "_model_module": "@jupyter-widgets/base",
            "_model_module_version": "1.2.0",
            "_model_name": "LayoutModel",
            "_view_count": null,
            "_view_module": "@jupyter-widgets/base",
            "_view_module_version": "1.2.0",
            "_view_name": "LayoutView",
            "align_content": null,
            "align_items": null,
            "align_self": null,
            "border": null,
            "bottom": null,
            "display": null,
            "flex": null,
            "flex_flow": null,
            "grid_area": null,
            "grid_auto_columns": null,
            "grid_auto_flow": null,
            "grid_auto_rows": null,
            "grid_column": null,
            "grid_gap": null,
            "grid_row": null,
            "grid_template_areas": null,
            "grid_template_columns": null,
            "grid_template_rows": null,
            "height": null,
            "justify_content": null,
            "justify_items": null,
            "left": null,
            "margin": null,
            "max_height": null,
            "max_width": null,
            "min_height": null,
            "min_width": null,
            "object_fit": null,
            "object_position": null,
            "order": null,
            "overflow": null,
            "overflow_x": null,
            "overflow_y": null,
            "padding": null,
            "right": null,
            "top": null,
            "visibility": null,
            "width": null
          }
        },
        "55b119f2402747f7969aa5e1f94e1021": {
          "model_module": "@jupyter-widgets/controls",
          "model_name": "DescriptionStyleModel",
          "model_module_version": "1.5.0",
          "state": {
            "_model_module": "@jupyter-widgets/controls",
            "_model_module_version": "1.5.0",
            "_model_name": "DescriptionStyleModel",
            "_view_count": null,
            "_view_module": "@jupyter-widgets/base",
            "_view_module_version": "1.2.0",
            "_view_name": "StyleView",
            "description_width": ""
          }
        },
        "bc6dc5e0cfa246e88da3e8a8b2349ee1": {
          "model_module": "@jupyter-widgets/base",
          "model_name": "LayoutModel",
          "model_module_version": "1.2.0",
          "state": {
            "_model_module": "@jupyter-widgets/base",
            "_model_module_version": "1.2.0",
            "_model_name": "LayoutModel",
            "_view_count": null,
            "_view_module": "@jupyter-widgets/base",
            "_view_module_version": "1.2.0",
            "_view_name": "LayoutView",
            "align_content": null,
            "align_items": null,
            "align_self": null,
            "border": null,
            "bottom": null,
            "display": null,
            "flex": null,
            "flex_flow": null,
            "grid_area": null,
            "grid_auto_columns": null,
            "grid_auto_flow": null,
            "grid_auto_rows": null,
            "grid_column": null,
            "grid_gap": null,
            "grid_row": null,
            "grid_template_areas": null,
            "grid_template_columns": null,
            "grid_template_rows": null,
            "height": null,
            "justify_content": null,
            "justify_items": null,
            "left": null,
            "margin": null,
            "max_height": null,
            "max_width": null,
            "min_height": null,
            "min_width": null,
            "object_fit": null,
            "object_position": null,
            "order": null,
            "overflow": null,
            "overflow_x": null,
            "overflow_y": null,
            "padding": null,
            "right": null,
            "top": null,
            "visibility": null,
            "width": null
          }
        },
        "72c3b2a6a9624ee0a55c138aa346c549": {
          "model_module": "@jupyter-widgets/controls",
          "model_name": "ProgressStyleModel",
          "model_module_version": "1.5.0",
          "state": {
            "_model_module": "@jupyter-widgets/controls",
            "_model_module_version": "1.5.0",
            "_model_name": "ProgressStyleModel",
            "_view_count": null,
            "_view_module": "@jupyter-widgets/base",
            "_view_module_version": "1.2.0",
            "_view_name": "StyleView",
            "bar_color": null,
            "description_width": ""
          }
        },
        "f9b8e18cba1b40e58b1fb265f784fdfe": {
          "model_module": "@jupyter-widgets/base",
          "model_name": "LayoutModel",
          "model_module_version": "1.2.0",
          "state": {
            "_model_module": "@jupyter-widgets/base",
            "_model_module_version": "1.2.0",
            "_model_name": "LayoutModel",
            "_view_count": null,
            "_view_module": "@jupyter-widgets/base",
            "_view_module_version": "1.2.0",
            "_view_name": "LayoutView",
            "align_content": null,
            "align_items": null,
            "align_self": null,
            "border": null,
            "bottom": null,
            "display": null,
            "flex": null,
            "flex_flow": null,
            "grid_area": null,
            "grid_auto_columns": null,
            "grid_auto_flow": null,
            "grid_auto_rows": null,
            "grid_column": null,
            "grid_gap": null,
            "grid_row": null,
            "grid_template_areas": null,
            "grid_template_columns": null,
            "grid_template_rows": null,
            "height": null,
            "justify_content": null,
            "justify_items": null,
            "left": null,
            "margin": null,
            "max_height": null,
            "max_width": null,
            "min_height": null,
            "min_width": null,
            "object_fit": null,
            "object_position": null,
            "order": null,
            "overflow": null,
            "overflow_x": null,
            "overflow_y": null,
            "padding": null,
            "right": null,
            "top": null,
            "visibility": null,
            "width": null
          }
        },
        "cf40c54fb5c0492b90e0a0e8b2b14009": {
          "model_module": "@jupyter-widgets/controls",
          "model_name": "DescriptionStyleModel",
          "model_module_version": "1.5.0",
          "state": {
            "_model_module": "@jupyter-widgets/controls",
            "_model_module_version": "1.5.0",
            "_model_name": "DescriptionStyleModel",
            "_view_count": null,
            "_view_module": "@jupyter-widgets/base",
            "_view_module_version": "1.2.0",
            "_view_name": "StyleView",
            "description_width": ""
          }
        },
        "7838fad53c7d4a1aa83acc448b9a8773": {
          "model_module": "@jupyter-widgets/controls",
          "model_name": "HBoxModel",
          "model_module_version": "1.5.0",
          "state": {
            "_dom_classes": [],
            "_model_module": "@jupyter-widgets/controls",
            "_model_module_version": "1.5.0",
            "_model_name": "HBoxModel",
            "_view_count": null,
            "_view_module": "@jupyter-widgets/controls",
            "_view_module_version": "1.5.0",
            "_view_name": "HBoxView",
            "box_style": "",
            "children": [
              "IPY_MODEL_0cbfa9ad6b5d49ed97d835d82830eacb",
              "IPY_MODEL_c751436dfec047efbde4da05ebd0c652",
              "IPY_MODEL_4896325bbb544313879553577ead294b"
            ],
            "layout": "IPY_MODEL_846741bb934a41b0b67035ff99b82989"
          }
        },
        "0cbfa9ad6b5d49ed97d835d82830eacb": {
          "model_module": "@jupyter-widgets/controls",
          "model_name": "HTMLModel",
          "model_module_version": "1.5.0",
          "state": {
            "_dom_classes": [],
            "_model_module": "@jupyter-widgets/controls",
            "_model_module_version": "1.5.0",
            "_model_name": "HTMLModel",
            "_view_count": null,
            "_view_module": "@jupyter-widgets/controls",
            "_view_module_version": "1.5.0",
            "_view_name": "HTMLView",
            "description": "",
            "description_tooltip": null,
            "layout": "IPY_MODEL_b4abd041d89540e19d241af8424e3180",
            "placeholder": "​",
            "style": "IPY_MODEL_2a035e36fc84462f89d9cba91e5751be",
            "value": "model.safetensors: 100%"
          }
        },
        "c751436dfec047efbde4da05ebd0c652": {
          "model_module": "@jupyter-widgets/controls",
          "model_name": "FloatProgressModel",
          "model_module_version": "1.5.0",
          "state": {
            "_dom_classes": [],
            "_model_module": "@jupyter-widgets/controls",
            "_model_module_version": "1.5.0",
            "_model_name": "FloatProgressModel",
            "_view_count": null,
            "_view_module": "@jupyter-widgets/controls",
            "_view_module_version": "1.5.0",
            "_view_name": "ProgressView",
            "bar_style": "success",
            "description": "",
            "description_tooltip": null,
            "layout": "IPY_MODEL_0e1b9d0f92324fa29f5b610ce948399a",
            "max": 1935682568,
            "min": 0,
            "orientation": "horizontal",
            "style": "IPY_MODEL_c240cb28f3414bf698026691c937c1b7",
            "value": 1935682568
          }
        },
        "4896325bbb544313879553577ead294b": {
          "model_module": "@jupyter-widgets/controls",
          "model_name": "HTMLModel",
          "model_module_version": "1.5.0",
          "state": {
            "_dom_classes": [],
            "_model_module": "@jupyter-widgets/controls",
            "_model_module_version": "1.5.0",
            "_model_name": "HTMLModel",
            "_view_count": null,
            "_view_module": "@jupyter-widgets/controls",
            "_view_module_version": "1.5.0",
            "_view_name": "HTMLView",
            "description": "",
            "description_tooltip": null,
            "layout": "IPY_MODEL_9c0a3aca25c543158972d034ca0c2714",
            "placeholder": "​",
            "style": "IPY_MODEL_b720ec85babc4ab0b296cdcaa4f8d4e6",
            "value": " 1.94G/1.94G [01:52&lt;00:00, 17.8MB/s]"
          }
        },
        "846741bb934a41b0b67035ff99b82989": {
          "model_module": "@jupyter-widgets/base",
          "model_name": "LayoutModel",
          "model_module_version": "1.2.0",
          "state": {
            "_model_module": "@jupyter-widgets/base",
            "_model_module_version": "1.2.0",
            "_model_name": "LayoutModel",
            "_view_count": null,
            "_view_module": "@jupyter-widgets/base",
            "_view_module_version": "1.2.0",
            "_view_name": "LayoutView",
            "align_content": null,
            "align_items": null,
            "align_self": null,
            "border": null,
            "bottom": null,
            "display": null,
            "flex": null,
            "flex_flow": null,
            "grid_area": null,
            "grid_auto_columns": null,
            "grid_auto_flow": null,
            "grid_auto_rows": null,
            "grid_column": null,
            "grid_gap": null,
            "grid_row": null,
            "grid_template_areas": null,
            "grid_template_columns": null,
            "grid_template_rows": null,
            "height": null,
            "justify_content": null,
            "justify_items": null,
            "left": null,
            "margin": null,
            "max_height": null,
            "max_width": null,
            "min_height": null,
            "min_width": null,
            "object_fit": null,
            "object_position": null,
            "order": null,
            "overflow": null,
            "overflow_x": null,
            "overflow_y": null,
            "padding": null,
            "right": null,
            "top": null,
            "visibility": null,
            "width": null
          }
        },
        "b4abd041d89540e19d241af8424e3180": {
          "model_module": "@jupyter-widgets/base",
          "model_name": "LayoutModel",
          "model_module_version": "1.2.0",
          "state": {
            "_model_module": "@jupyter-widgets/base",
            "_model_module_version": "1.2.0",
            "_model_name": "LayoutModel",
            "_view_count": null,
            "_view_module": "@jupyter-widgets/base",
            "_view_module_version": "1.2.0",
            "_view_name": "LayoutView",
            "align_content": null,
            "align_items": null,
            "align_self": null,
            "border": null,
            "bottom": null,
            "display": null,
            "flex": null,
            "flex_flow": null,
            "grid_area": null,
            "grid_auto_columns": null,
            "grid_auto_flow": null,
            "grid_auto_rows": null,
            "grid_column": null,
            "grid_gap": null,
            "grid_row": null,
            "grid_template_areas": null,
            "grid_template_columns": null,
            "grid_template_rows": null,
            "height": null,
            "justify_content": null,
            "justify_items": null,
            "left": null,
            "margin": null,
            "max_height": null,
            "max_width": null,
            "min_height": null,
            "min_width": null,
            "object_fit": null,
            "object_position": null,
            "order": null,
            "overflow": null,
            "overflow_x": null,
            "overflow_y": null,
            "padding": null,
            "right": null,
            "top": null,
            "visibility": null,
            "width": null
          }
        },
        "2a035e36fc84462f89d9cba91e5751be": {
          "model_module": "@jupyter-widgets/controls",
          "model_name": "DescriptionStyleModel",
          "model_module_version": "1.5.0",
          "state": {
            "_model_module": "@jupyter-widgets/controls",
            "_model_module_version": "1.5.0",
            "_model_name": "DescriptionStyleModel",
            "_view_count": null,
            "_view_module": "@jupyter-widgets/base",
            "_view_module_version": "1.2.0",
            "_view_name": "StyleView",
            "description_width": ""
          }
        },
        "0e1b9d0f92324fa29f5b610ce948399a": {
          "model_module": "@jupyter-widgets/base",
          "model_name": "LayoutModel",
          "model_module_version": "1.2.0",
          "state": {
            "_model_module": "@jupyter-widgets/base",
            "_model_module_version": "1.2.0",
            "_model_name": "LayoutModel",
            "_view_count": null,
            "_view_module": "@jupyter-widgets/base",
            "_view_module_version": "1.2.0",
            "_view_name": "LayoutView",
            "align_content": null,
            "align_items": null,
            "align_self": null,
            "border": null,
            "bottom": null,
            "display": null,
            "flex": null,
            "flex_flow": null,
            "grid_area": null,
            "grid_auto_columns": null,
            "grid_auto_flow": null,
            "grid_auto_rows": null,
            "grid_column": null,
            "grid_gap": null,
            "grid_row": null,
            "grid_template_areas": null,
            "grid_template_columns": null,
            "grid_template_rows": null,
            "height": null,
            "justify_content": null,
            "justify_items": null,
            "left": null,
            "margin": null,
            "max_height": null,
            "max_width": null,
            "min_height": null,
            "min_width": null,
            "object_fit": null,
            "object_position": null,
            "order": null,
            "overflow": null,
            "overflow_x": null,
            "overflow_y": null,
            "padding": null,
            "right": null,
            "top": null,
            "visibility": null,
            "width": null
          }
        },
        "c240cb28f3414bf698026691c937c1b7": {
          "model_module": "@jupyter-widgets/controls",
          "model_name": "ProgressStyleModel",
          "model_module_version": "1.5.0",
          "state": {
            "_model_module": "@jupyter-widgets/controls",
            "_model_module_version": "1.5.0",
            "_model_name": "ProgressStyleModel",
            "_view_count": null,
            "_view_module": "@jupyter-widgets/base",
            "_view_module_version": "1.2.0",
            "_view_name": "StyleView",
            "bar_color": null,
            "description_width": ""
          }
        },
        "9c0a3aca25c543158972d034ca0c2714": {
          "model_module": "@jupyter-widgets/base",
          "model_name": "LayoutModel",
          "model_module_version": "1.2.0",
          "state": {
            "_model_module": "@jupyter-widgets/base",
            "_model_module_version": "1.2.0",
            "_model_name": "LayoutModel",
            "_view_count": null,
            "_view_module": "@jupyter-widgets/base",
            "_view_module_version": "1.2.0",
            "_view_name": "LayoutView",
            "align_content": null,
            "align_items": null,
            "align_self": null,
            "border": null,
            "bottom": null,
            "display": null,
            "flex": null,
            "flex_flow": null,
            "grid_area": null,
            "grid_auto_columns": null,
            "grid_auto_flow": null,
            "grid_auto_rows": null,
            "grid_column": null,
            "grid_gap": null,
            "grid_row": null,
            "grid_template_areas": null,
            "grid_template_columns": null,
            "grid_template_rows": null,
            "height": null,
            "justify_content": null,
            "justify_items": null,
            "left": null,
            "margin": null,
            "max_height": null,
            "max_width": null,
            "min_height": null,
            "min_width": null,
            "object_fit": null,
            "object_position": null,
            "order": null,
            "overflow": null,
            "overflow_x": null,
            "overflow_y": null,
            "padding": null,
            "right": null,
            "top": null,
            "visibility": null,
            "width": null
          }
        },
        "b720ec85babc4ab0b296cdcaa4f8d4e6": {
          "model_module": "@jupyter-widgets/controls",
          "model_name": "DescriptionStyleModel",
          "model_module_version": "1.5.0",
          "state": {
            "_model_module": "@jupyter-widgets/controls",
            "_model_module_version": "1.5.0",
            "_model_name": "DescriptionStyleModel",
            "_view_count": null,
            "_view_module": "@jupyter-widgets/base",
            "_view_module_version": "1.2.0",
            "_view_name": "StyleView",
            "description_width": ""
          }
        },
        "baec9897de584156a0d050dd586526f9": {
          "model_module": "@jupyter-widgets/controls",
          "model_name": "HBoxModel",
          "model_module_version": "1.5.0",
          "state": {
            "_dom_classes": [],
            "_model_module": "@jupyter-widgets/controls",
            "_model_module_version": "1.5.0",
            "_model_name": "HBoxModel",
            "_view_count": null,
            "_view_module": "@jupyter-widgets/controls",
            "_view_module_version": "1.5.0",
            "_view_name": "HBoxView",
            "box_style": "",
            "children": [
              "IPY_MODEL_974cd32da1c44efbad2bc1aae0849433",
              "IPY_MODEL_34cc92d248784c348bc440c61e347450",
              "IPY_MODEL_fde80e753ce44967a00da2088ef9f48b"
            ],
            "layout": "IPY_MODEL_dda049aff3bb46e4933572b9198b7270"
          }
        },
        "974cd32da1c44efbad2bc1aae0849433": {
          "model_module": "@jupyter-widgets/controls",
          "model_name": "HTMLModel",
          "model_module_version": "1.5.0",
          "state": {
            "_dom_classes": [],
            "_model_module": "@jupyter-widgets/controls",
            "_model_module_version": "1.5.0",
            "_model_name": "HTMLModel",
            "_view_count": null,
            "_view_module": "@jupyter-widgets/controls",
            "_view_module_version": "1.5.0",
            "_view_name": "HTMLView",
            "description": "",
            "description_tooltip": null,
            "layout": "IPY_MODEL_a559fcd85b89415db563e16fd947ecf5",
            "placeholder": "​",
            "style": "IPY_MODEL_4da7943a0dcf439bae8fce6b219fc2d0",
            "value": "generation_config.json: 100%"
          }
        },
        "34cc92d248784c348bc440c61e347450": {
          "model_module": "@jupyter-widgets/controls",
          "model_name": "FloatProgressModel",
          "model_module_version": "1.5.0",
          "state": {
            "_dom_classes": [],
            "_model_module": "@jupyter-widgets/controls",
            "_model_module_version": "1.5.0",
            "_model_name": "FloatProgressModel",
            "_view_count": null,
            "_view_module": "@jupyter-widgets/controls",
            "_view_module_version": "1.5.0",
            "_view_name": "ProgressView",
            "bar_style": "success",
            "description": "",
            "description_tooltip": null,
            "layout": "IPY_MODEL_b5ff777100094310a9e0ee07e90f4d3b",
            "max": 233,
            "min": 0,
            "orientation": "horizontal",
            "style": "IPY_MODEL_28cb8bc4f5d0440d9d0563bc91e1aa84",
            "value": 233
          }
        },
        "fde80e753ce44967a00da2088ef9f48b": {
          "model_module": "@jupyter-widgets/controls",
          "model_name": "HTMLModel",
          "model_module_version": "1.5.0",
          "state": {
            "_dom_classes": [],
            "_model_module": "@jupyter-widgets/controls",
            "_model_module_version": "1.5.0",
            "_model_name": "HTMLModel",
            "_view_count": null,
            "_view_module": "@jupyter-widgets/controls",
            "_view_module_version": "1.5.0",
            "_view_name": "HTMLView",
            "description": "",
            "description_tooltip": null,
            "layout": "IPY_MODEL_4c51183409da45b69c2a9271a29aed98",
            "placeholder": "​",
            "style": "IPY_MODEL_873d8f82f4a844e4b42ed52917a69e1c",
            "value": " 233/233 [00:00&lt;00:00, 16.7kB/s]"
          }
        },
        "dda049aff3bb46e4933572b9198b7270": {
          "model_module": "@jupyter-widgets/base",
          "model_name": "LayoutModel",
          "model_module_version": "1.2.0",
          "state": {
            "_model_module": "@jupyter-widgets/base",
            "_model_module_version": "1.2.0",
            "_model_name": "LayoutModel",
            "_view_count": null,
            "_view_module": "@jupyter-widgets/base",
            "_view_module_version": "1.2.0",
            "_view_name": "LayoutView",
            "align_content": null,
            "align_items": null,
            "align_self": null,
            "border": null,
            "bottom": null,
            "display": null,
            "flex": null,
            "flex_flow": null,
            "grid_area": null,
            "grid_auto_columns": null,
            "grid_auto_flow": null,
            "grid_auto_rows": null,
            "grid_column": null,
            "grid_gap": null,
            "grid_row": null,
            "grid_template_areas": null,
            "grid_template_columns": null,
            "grid_template_rows": null,
            "height": null,
            "justify_content": null,
            "justify_items": null,
            "left": null,
            "margin": null,
            "max_height": null,
            "max_width": null,
            "min_height": null,
            "min_width": null,
            "object_fit": null,
            "object_position": null,
            "order": null,
            "overflow": null,
            "overflow_x": null,
            "overflow_y": null,
            "padding": null,
            "right": null,
            "top": null,
            "visibility": null,
            "width": null
          }
        },
        "a559fcd85b89415db563e16fd947ecf5": {
          "model_module": "@jupyter-widgets/base",
          "model_name": "LayoutModel",
          "model_module_version": "1.2.0",
          "state": {
            "_model_module": "@jupyter-widgets/base",
            "_model_module_version": "1.2.0",
            "_model_name": "LayoutModel",
            "_view_count": null,
            "_view_module": "@jupyter-widgets/base",
            "_view_module_version": "1.2.0",
            "_view_name": "LayoutView",
            "align_content": null,
            "align_items": null,
            "align_self": null,
            "border": null,
            "bottom": null,
            "display": null,
            "flex": null,
            "flex_flow": null,
            "grid_area": null,
            "grid_auto_columns": null,
            "grid_auto_flow": null,
            "grid_auto_rows": null,
            "grid_column": null,
            "grid_gap": null,
            "grid_row": null,
            "grid_template_areas": null,
            "grid_template_columns": null,
            "grid_template_rows": null,
            "height": null,
            "justify_content": null,
            "justify_items": null,
            "left": null,
            "margin": null,
            "max_height": null,
            "max_width": null,
            "min_height": null,
            "min_width": null,
            "object_fit": null,
            "object_position": null,
            "order": null,
            "overflow": null,
            "overflow_x": null,
            "overflow_y": null,
            "padding": null,
            "right": null,
            "top": null,
            "visibility": null,
            "width": null
          }
        },
        "4da7943a0dcf439bae8fce6b219fc2d0": {
          "model_module": "@jupyter-widgets/controls",
          "model_name": "DescriptionStyleModel",
          "model_module_version": "1.5.0",
          "state": {
            "_model_module": "@jupyter-widgets/controls",
            "_model_module_version": "1.5.0",
            "_model_name": "DescriptionStyleModel",
            "_view_count": null,
            "_view_module": "@jupyter-widgets/base",
            "_view_module_version": "1.2.0",
            "_view_name": "StyleView",
            "description_width": ""
          }
        },
        "b5ff777100094310a9e0ee07e90f4d3b": {
          "model_module": "@jupyter-widgets/base",
          "model_name": "LayoutModel",
          "model_module_version": "1.2.0",
          "state": {
            "_model_module": "@jupyter-widgets/base",
            "_model_module_version": "1.2.0",
            "_model_name": "LayoutModel",
            "_view_count": null,
            "_view_module": "@jupyter-widgets/base",
            "_view_module_version": "1.2.0",
            "_view_name": "LayoutView",
            "align_content": null,
            "align_items": null,
            "align_self": null,
            "border": null,
            "bottom": null,
            "display": null,
            "flex": null,
            "flex_flow": null,
            "grid_area": null,
            "grid_auto_columns": null,
            "grid_auto_flow": null,
            "grid_auto_rows": null,
            "grid_column": null,
            "grid_gap": null,
            "grid_row": null,
            "grid_template_areas": null,
            "grid_template_columns": null,
            "grid_template_rows": null,
            "height": null,
            "justify_content": null,
            "justify_items": null,
            "left": null,
            "margin": null,
            "max_height": null,
            "max_width": null,
            "min_height": null,
            "min_width": null,
            "object_fit": null,
            "object_position": null,
            "order": null,
            "overflow": null,
            "overflow_x": null,
            "overflow_y": null,
            "padding": null,
            "right": null,
            "top": null,
            "visibility": null,
            "width": null
          }
        },
        "28cb8bc4f5d0440d9d0563bc91e1aa84": {
          "model_module": "@jupyter-widgets/controls",
          "model_name": "ProgressStyleModel",
          "model_module_version": "1.5.0",
          "state": {
            "_model_module": "@jupyter-widgets/controls",
            "_model_module_version": "1.5.0",
            "_model_name": "ProgressStyleModel",
            "_view_count": null,
            "_view_module": "@jupyter-widgets/base",
            "_view_module_version": "1.2.0",
            "_view_name": "StyleView",
            "bar_color": null,
            "description_width": ""
          }
        },
        "4c51183409da45b69c2a9271a29aed98": {
          "model_module": "@jupyter-widgets/base",
          "model_name": "LayoutModel",
          "model_module_version": "1.2.0",
          "state": {
            "_model_module": "@jupyter-widgets/base",
            "_model_module_version": "1.2.0",
            "_model_name": "LayoutModel",
            "_view_count": null,
            "_view_module": "@jupyter-widgets/base",
            "_view_module_version": "1.2.0",
            "_view_name": "LayoutView",
            "align_content": null,
            "align_items": null,
            "align_self": null,
            "border": null,
            "bottom": null,
            "display": null,
            "flex": null,
            "flex_flow": null,
            "grid_area": null,
            "grid_auto_columns": null,
            "grid_auto_flow": null,
            "grid_auto_rows": null,
            "grid_column": null,
            "grid_gap": null,
            "grid_row": null,
            "grid_template_areas": null,
            "grid_template_columns": null,
            "grid_template_rows": null,
            "height": null,
            "justify_content": null,
            "justify_items": null,
            "left": null,
            "margin": null,
            "max_height": null,
            "max_width": null,
            "min_height": null,
            "min_width": null,
            "object_fit": null,
            "object_position": null,
            "order": null,
            "overflow": null,
            "overflow_x": null,
            "overflow_y": null,
            "padding": null,
            "right": null,
            "top": null,
            "visibility": null,
            "width": null
          }
        },
        "873d8f82f4a844e4b42ed52917a69e1c": {
          "model_module": "@jupyter-widgets/controls",
          "model_name": "DescriptionStyleModel",
          "model_module_version": "1.5.0",
          "state": {
            "_model_module": "@jupyter-widgets/controls",
            "_model_module_version": "1.5.0",
            "_model_name": "DescriptionStyleModel",
            "_view_count": null,
            "_view_module": "@jupyter-widgets/base",
            "_view_module_version": "1.2.0",
            "_view_name": "StyleView",
            "description_width": ""
          }
        }
      }
    }
  },
  "cells": [
    {
      "cell_type": "markdown",
      "metadata": {
        "id": "view-in-github",
        "colab_type": "text"
      },
      "source": [
        "<a href=\"https://colab.research.google.com/github/MaiSerry/DoctBot_grad/blob/main/main_code_DoctorBot.ipynb\" target=\"_parent\"><img src=\"https://colab.research.google.com/assets/colab-badge.svg\" alt=\"Open In Colab\"/></a>"
      ]
    },
    {
      "cell_type": "code",
      "source": [
        "pip install openai-whisper"
      ],
      "metadata": {
        "colab": {
          "base_uri": "https://localhost:8080/"
        },
        "id": "9GxwGefOdjuh",
        "outputId": "410c7bb3-7d88-4424-a996-41c95a4108e3"
      },
      "execution_count": null,
      "outputs": [
        {
          "output_type": "stream",
          "name": "stdout",
          "text": [
            "Collecting openai-whisper\n",
            "  Downloading openai-whisper-20240930.tar.gz (800 kB)\n",
            "\u001b[?25l     \u001b[90m━━━━━━━━━━━━━━━━━━━━━━━━━━━━━━━━━━━━━━━━\u001b[0m \u001b[32m0.0/800.5 kB\u001b[0m \u001b[31m?\u001b[0m eta \u001b[36m-:--:--\u001b[0m\r\u001b[2K     \u001b[90m━━━━━━━━━━━━━━━━━━━━━━━━━━━━━━━━━━━━━━\u001b[0m \u001b[32m800.5/800.5 kB\u001b[0m \u001b[31m35.7 MB/s\u001b[0m eta \u001b[36m0:00:00\u001b[0m\n",
            "\u001b[?25h  Installing build dependencies ... \u001b[?25l\u001b[?25hdone\n",
            "  Getting requirements to build wheel ... \u001b[?25l\u001b[?25hdone\n",
            "  Preparing metadata (pyproject.toml) ... \u001b[?25l\u001b[?25hdone\n",
            "Requirement already satisfied: numba in /usr/local/lib/python3.11/dist-packages (from openai-whisper) (0.60.0)\n",
            "Requirement already satisfied: numpy in /usr/local/lib/python3.11/dist-packages (from openai-whisper) (2.0.2)\n",
            "Requirement already satisfied: torch in /usr/local/lib/python3.11/dist-packages (from openai-whisper) (2.6.0+cu124)\n",
            "Requirement already satisfied: tqdm in /usr/local/lib/python3.11/dist-packages (from openai-whisper) (4.67.1)\n",
            "Requirement already satisfied: more-itertools in /usr/local/lib/python3.11/dist-packages (from openai-whisper) (10.7.0)\n",
            "Requirement already satisfied: tiktoken in /usr/local/lib/python3.11/dist-packages (from openai-whisper) (0.9.0)\n",
            "Requirement already satisfied: triton>=2.0.0 in /usr/local/lib/python3.11/dist-packages (from openai-whisper) (3.2.0)\n",
            "Requirement already satisfied: llvmlite<0.44,>=0.43.0dev0 in /usr/local/lib/python3.11/dist-packages (from numba->openai-whisper) (0.43.0)\n",
            "Requirement already satisfied: regex>=2022.1.18 in /usr/local/lib/python3.11/dist-packages (from tiktoken->openai-whisper) (2024.11.6)\n",
            "Requirement already satisfied: requests>=2.26.0 in /usr/local/lib/python3.11/dist-packages (from tiktoken->openai-whisper) (2.32.3)\n",
            "Requirement already satisfied: filelock in /usr/local/lib/python3.11/dist-packages (from torch->openai-whisper) (3.18.0)\n",
            "Requirement already satisfied: typing-extensions>=4.10.0 in /usr/local/lib/python3.11/dist-packages (from torch->openai-whisper) (4.13.2)\n",
            "Requirement already satisfied: networkx in /usr/local/lib/python3.11/dist-packages (from torch->openai-whisper) (3.4.2)\n",
            "Requirement already satisfied: jinja2 in /usr/local/lib/python3.11/dist-packages (from torch->openai-whisper) (3.1.6)\n",
            "Requirement already satisfied: fsspec in /usr/local/lib/python3.11/dist-packages (from torch->openai-whisper) (2025.3.2)\n",
            "Collecting nvidia-cuda-nvrtc-cu12==12.4.127 (from torch->openai-whisper)\n",
            "  Downloading nvidia_cuda_nvrtc_cu12-12.4.127-py3-none-manylinux2014_x86_64.whl.metadata (1.5 kB)\n",
            "Collecting nvidia-cuda-runtime-cu12==12.4.127 (from torch->openai-whisper)\n",
            "  Downloading nvidia_cuda_runtime_cu12-12.4.127-py3-none-manylinux2014_x86_64.whl.metadata (1.5 kB)\n",
            "Collecting nvidia-cuda-cupti-cu12==12.4.127 (from torch->openai-whisper)\n",
            "  Downloading nvidia_cuda_cupti_cu12-12.4.127-py3-none-manylinux2014_x86_64.whl.metadata (1.6 kB)\n",
            "Collecting nvidia-cudnn-cu12==9.1.0.70 (from torch->openai-whisper)\n",
            "  Downloading nvidia_cudnn_cu12-9.1.0.70-py3-none-manylinux2014_x86_64.whl.metadata (1.6 kB)\n",
            "Collecting nvidia-cublas-cu12==12.4.5.8 (from torch->openai-whisper)\n",
            "  Downloading nvidia_cublas_cu12-12.4.5.8-py3-none-manylinux2014_x86_64.whl.metadata (1.5 kB)\n",
            "Collecting nvidia-cufft-cu12==11.2.1.3 (from torch->openai-whisper)\n",
            "  Downloading nvidia_cufft_cu12-11.2.1.3-py3-none-manylinux2014_x86_64.whl.metadata (1.5 kB)\n",
            "Collecting nvidia-curand-cu12==10.3.5.147 (from torch->openai-whisper)\n",
            "  Downloading nvidia_curand_cu12-10.3.5.147-py3-none-manylinux2014_x86_64.whl.metadata (1.5 kB)\n",
            "Collecting nvidia-cusolver-cu12==11.6.1.9 (from torch->openai-whisper)\n",
            "  Downloading nvidia_cusolver_cu12-11.6.1.9-py3-none-manylinux2014_x86_64.whl.metadata (1.6 kB)\n",
            "Collecting nvidia-cusparse-cu12==12.3.1.170 (from torch->openai-whisper)\n",
            "  Downloading nvidia_cusparse_cu12-12.3.1.170-py3-none-manylinux2014_x86_64.whl.metadata (1.6 kB)\n",
            "Requirement already satisfied: nvidia-cusparselt-cu12==0.6.2 in /usr/local/lib/python3.11/dist-packages (from torch->openai-whisper) (0.6.2)\n",
            "Requirement already satisfied: nvidia-nccl-cu12==2.21.5 in /usr/local/lib/python3.11/dist-packages (from torch->openai-whisper) (2.21.5)\n",
            "Requirement already satisfied: nvidia-nvtx-cu12==12.4.127 in /usr/local/lib/python3.11/dist-packages (from torch->openai-whisper) (12.4.127)\n",
            "Collecting nvidia-nvjitlink-cu12==12.4.127 (from torch->openai-whisper)\n",
            "  Downloading nvidia_nvjitlink_cu12-12.4.127-py3-none-manylinux2014_x86_64.whl.metadata (1.5 kB)\n",
            "Requirement already satisfied: sympy==1.13.1 in /usr/local/lib/python3.11/dist-packages (from torch->openai-whisper) (1.13.1)\n",
            "Requirement already satisfied: mpmath<1.4,>=1.1.0 in /usr/local/lib/python3.11/dist-packages (from sympy==1.13.1->torch->openai-whisper) (1.3.0)\n",
            "Requirement already satisfied: charset-normalizer<4,>=2 in /usr/local/lib/python3.11/dist-packages (from requests>=2.26.0->tiktoken->openai-whisper) (3.4.2)\n",
            "Requirement already satisfied: idna<4,>=2.5 in /usr/local/lib/python3.11/dist-packages (from requests>=2.26.0->tiktoken->openai-whisper) (3.10)\n",
            "Requirement already satisfied: urllib3<3,>=1.21.1 in /usr/local/lib/python3.11/dist-packages (from requests>=2.26.0->tiktoken->openai-whisper) (2.4.0)\n",
            "Requirement already satisfied: certifi>=2017.4.17 in /usr/local/lib/python3.11/dist-packages (from requests>=2.26.0->tiktoken->openai-whisper) (2025.4.26)\n",
            "Requirement already satisfied: MarkupSafe>=2.0 in /usr/local/lib/python3.11/dist-packages (from jinja2->torch->openai-whisper) (3.0.2)\n",
            "Downloading nvidia_cublas_cu12-12.4.5.8-py3-none-manylinux2014_x86_64.whl (363.4 MB)\n",
            "\u001b[2K   \u001b[90m━━━━━━━━━━━━━━━━━━━━━━━━━━━━━━━━━━━━━━━━\u001b[0m \u001b[32m363.4/363.4 MB\u001b[0m \u001b[31m5.2 MB/s\u001b[0m eta \u001b[36m0:00:00\u001b[0m\n",
            "\u001b[?25hDownloading nvidia_cuda_cupti_cu12-12.4.127-py3-none-manylinux2014_x86_64.whl (13.8 MB)\n",
            "\u001b[2K   \u001b[90m━━━━━━━━━━━━━━━━━━━━━━━━━━━━━━━━━━━━━━━━\u001b[0m \u001b[32m13.8/13.8 MB\u001b[0m \u001b[31m86.5 MB/s\u001b[0m eta \u001b[36m0:00:00\u001b[0m\n",
            "\u001b[?25hDownloading nvidia_cuda_nvrtc_cu12-12.4.127-py3-none-manylinux2014_x86_64.whl (24.6 MB)\n",
            "\u001b[2K   \u001b[90m━━━━━━━━━━━━━━━━━━━━━━━━━━━━━━━━━━━━━━━━\u001b[0m \u001b[32m24.6/24.6 MB\u001b[0m \u001b[31m22.6 MB/s\u001b[0m eta \u001b[36m0:00:00\u001b[0m\n",
            "\u001b[?25hDownloading nvidia_cuda_runtime_cu12-12.4.127-py3-none-manylinux2014_x86_64.whl (883 kB)\n",
            "\u001b[2K   \u001b[90m━━━━━━━━━━━━━━━━━━━━━━━━━━━━━━━━━━━━━━━━\u001b[0m \u001b[32m883.7/883.7 kB\u001b[0m \u001b[31m41.1 MB/s\u001b[0m eta \u001b[36m0:00:00\u001b[0m\n",
            "\u001b[?25hDownloading nvidia_cudnn_cu12-9.1.0.70-py3-none-manylinux2014_x86_64.whl (664.8 MB)\n",
            "\u001b[2K   \u001b[90m━━━━━━━━━━━━━━━━━━━━━━━━━━━━━━━━━━━━━━━\u001b[0m \u001b[32m664.8/664.8 MB\u001b[0m \u001b[31m878.9 kB/s\u001b[0m eta \u001b[36m0:00:00\u001b[0m\n",
            "\u001b[?25hDownloading nvidia_cufft_cu12-11.2.1.3-py3-none-manylinux2014_x86_64.whl (211.5 MB)\n",
            "\u001b[2K   \u001b[90m━━━━━━━━━━━━━━━━━━━━━━━━━━━━━━━━━━━━━━━━\u001b[0m \u001b[32m211.5/211.5 MB\u001b[0m \u001b[31m1.7 MB/s\u001b[0m eta \u001b[36m0:00:00\u001b[0m\n",
            "\u001b[?25hDownloading nvidia_curand_cu12-10.3.5.147-py3-none-manylinux2014_x86_64.whl (56.3 MB)\n",
            "\u001b[2K   \u001b[90m━━━━━━━━━━━━━━━━━━━━━━━━━━━━━━━━━━━━━━━━\u001b[0m \u001b[32m56.3/56.3 MB\u001b[0m \u001b[31m15.1 MB/s\u001b[0m eta \u001b[36m0:00:00\u001b[0m\n",
            "\u001b[?25hDownloading nvidia_cusolver_cu12-11.6.1.9-py3-none-manylinux2014_x86_64.whl (127.9 MB)\n",
            "\u001b[2K   \u001b[90m━━━━━━━━━━━━━━━━━━━━━━━━━━━━━━━━━━━━━━━━\u001b[0m \u001b[32m127.9/127.9 MB\u001b[0m \u001b[31m2.2 MB/s\u001b[0m eta \u001b[36m0:00:00\u001b[0m\n",
            "\u001b[?25hDownloading nvidia_cusparse_cu12-12.3.1.170-py3-none-manylinux2014_x86_64.whl (207.5 MB)\n",
            "\u001b[2K   \u001b[90m━━━━━━━━━━━━━━━━━━━━━━━━━━━━━━━━━━━━━━━━\u001b[0m \u001b[32m207.5/207.5 MB\u001b[0m \u001b[31m1.5 MB/s\u001b[0m eta \u001b[36m0:00:00\u001b[0m\n",
            "\u001b[?25hDownloading nvidia_nvjitlink_cu12-12.4.127-py3-none-manylinux2014_x86_64.whl (21.1 MB)\n",
            "\u001b[2K   \u001b[90m━━━━━━━━━━━━━━━━━━━━━━━━━━━━━━━━━━━━━━━━\u001b[0m \u001b[32m21.1/21.1 MB\u001b[0m \u001b[31m65.4 MB/s\u001b[0m eta \u001b[36m0:00:00\u001b[0m\n",
            "\u001b[?25hBuilding wheels for collected packages: openai-whisper\n",
            "  Building wheel for openai-whisper (pyproject.toml) ... \u001b[?25l\u001b[?25hdone\n",
            "  Created wheel for openai-whisper: filename=openai_whisper-20240930-py3-none-any.whl size=803404 sha256=4adccae9d4c4f799a236e53ecbca1b4df23a4c50cfc383289b6f54b4a7299a76\n",
            "  Stored in directory: /root/.cache/pip/wheels/2f/f2/ce/6eb23db4091d026238ce76703bd66da60b969d70bcc81d5d3a\n",
            "Successfully built openai-whisper\n",
            "Installing collected packages: nvidia-nvjitlink-cu12, nvidia-curand-cu12, nvidia-cufft-cu12, nvidia-cuda-runtime-cu12, nvidia-cuda-nvrtc-cu12, nvidia-cuda-cupti-cu12, nvidia-cublas-cu12, nvidia-cusparse-cu12, nvidia-cudnn-cu12, nvidia-cusolver-cu12, openai-whisper\n",
            "  Attempting uninstall: nvidia-nvjitlink-cu12\n",
            "    Found existing installation: nvidia-nvjitlink-cu12 12.5.82\n",
            "    Uninstalling nvidia-nvjitlink-cu12-12.5.82:\n",
            "      Successfully uninstalled nvidia-nvjitlink-cu12-12.5.82\n",
            "  Attempting uninstall: nvidia-curand-cu12\n",
            "    Found existing installation: nvidia-curand-cu12 10.3.6.82\n",
            "    Uninstalling nvidia-curand-cu12-10.3.6.82:\n",
            "      Successfully uninstalled nvidia-curand-cu12-10.3.6.82\n",
            "  Attempting uninstall: nvidia-cufft-cu12\n",
            "    Found existing installation: nvidia-cufft-cu12 11.2.3.61\n",
            "    Uninstalling nvidia-cufft-cu12-11.2.3.61:\n",
            "      Successfully uninstalled nvidia-cufft-cu12-11.2.3.61\n",
            "  Attempting uninstall: nvidia-cuda-runtime-cu12\n",
            "    Found existing installation: nvidia-cuda-runtime-cu12 12.5.82\n",
            "    Uninstalling nvidia-cuda-runtime-cu12-12.5.82:\n",
            "      Successfully uninstalled nvidia-cuda-runtime-cu12-12.5.82\n",
            "  Attempting uninstall: nvidia-cuda-nvrtc-cu12\n",
            "    Found existing installation: nvidia-cuda-nvrtc-cu12 12.5.82\n",
            "    Uninstalling nvidia-cuda-nvrtc-cu12-12.5.82:\n",
            "      Successfully uninstalled nvidia-cuda-nvrtc-cu12-12.5.82\n",
            "  Attempting uninstall: nvidia-cuda-cupti-cu12\n",
            "    Found existing installation: nvidia-cuda-cupti-cu12 12.5.82\n",
            "    Uninstalling nvidia-cuda-cupti-cu12-12.5.82:\n",
            "      Successfully uninstalled nvidia-cuda-cupti-cu12-12.5.82\n",
            "  Attempting uninstall: nvidia-cublas-cu12\n",
            "    Found existing installation: nvidia-cublas-cu12 12.5.3.2\n",
            "    Uninstalling nvidia-cublas-cu12-12.5.3.2:\n",
            "      Successfully uninstalled nvidia-cublas-cu12-12.5.3.2\n",
            "  Attempting uninstall: nvidia-cusparse-cu12\n",
            "    Found existing installation: nvidia-cusparse-cu12 12.5.1.3\n",
            "    Uninstalling nvidia-cusparse-cu12-12.5.1.3:\n",
            "      Successfully uninstalled nvidia-cusparse-cu12-12.5.1.3\n",
            "  Attempting uninstall: nvidia-cudnn-cu12\n",
            "    Found existing installation: nvidia-cudnn-cu12 9.3.0.75\n",
            "    Uninstalling nvidia-cudnn-cu12-9.3.0.75:\n",
            "      Successfully uninstalled nvidia-cudnn-cu12-9.3.0.75\n",
            "  Attempting uninstall: nvidia-cusolver-cu12\n",
            "    Found existing installation: nvidia-cusolver-cu12 11.6.3.83\n",
            "    Uninstalling nvidia-cusolver-cu12-11.6.3.83:\n",
            "      Successfully uninstalled nvidia-cusolver-cu12-11.6.3.83\n",
            "Successfully installed nvidia-cublas-cu12-12.4.5.8 nvidia-cuda-cupti-cu12-12.4.127 nvidia-cuda-nvrtc-cu12-12.4.127 nvidia-cuda-runtime-cu12-12.4.127 nvidia-cudnn-cu12-9.1.0.70 nvidia-cufft-cu12-11.2.1.3 nvidia-curand-cu12-10.3.5.147 nvidia-cusolver-cu12-11.6.1.9 nvidia-cusparse-cu12-12.3.1.170 nvidia-nvjitlink-cu12-12.4.127 openai-whisper-20240930\n"
          ]
        },
        {
          "output_type": "display_data",
          "data": {
            "application/vnd.colab-display-data+json": {
              "pip_warning": {
                "packages": [
                  "nvidia"
                ]
              },
              "id": "22b565c03e864bf98471240e8a295f34"
            }
          },
          "metadata": {}
        }
      ]
    },
    {
      "cell_type": "code",
      "source": [
        "pip install langdetect"
      ],
      "metadata": {
        "colab": {
          "base_uri": "https://localhost:8080/"
        },
        "id": "varWIKOwlF1W",
        "outputId": "566e9fe4-b115-44f4-fd68-bdc720140a0c"
      },
      "execution_count": null,
      "outputs": [
        {
          "output_type": "stream",
          "name": "stdout",
          "text": [
            "Collecting langdetect\n",
            "  Downloading langdetect-1.0.9.tar.gz (981 kB)\n",
            "\u001b[?25l     \u001b[90m━━━━━━━━━━━━━━━━━━━━━━━━━━━━━━━━━━━━━━━━\u001b[0m \u001b[32m0.0/981.5 kB\u001b[0m \u001b[31m?\u001b[0m eta \u001b[36m-:--:--\u001b[0m\r\u001b[2K     \u001b[90m━━━━━━━━━━━━━━━━━━━━━━━━━━━━━━━━━━━━━━\u001b[0m \u001b[32m981.5/981.5 kB\u001b[0m \u001b[31m39.0 MB/s\u001b[0m eta \u001b[36m0:00:00\u001b[0m\n",
            "\u001b[?25h  Preparing metadata (setup.py) ... \u001b[?25l\u001b[?25hdone\n",
            "Requirement already satisfied: six in /usr/local/lib/python3.11/dist-packages (from langdetect) (1.17.0)\n",
            "Building wheels for collected packages: langdetect\n",
            "  Building wheel for langdetect (setup.py) ... \u001b[?25l\u001b[?25hdone\n",
            "  Created wheel for langdetect: filename=langdetect-1.0.9-py3-none-any.whl size=993223 sha256=5acf0538358ba13789c68cae1d28160b1c7c4669cc87263b41924b84aa2da31b\n",
            "  Stored in directory: /root/.cache/pip/wheels/0a/f2/b2/e5ca405801e05eb7c8ed5b3b4bcf1fcabcd6272c167640072e\n",
            "Successfully built langdetect\n",
            "Installing collected packages: langdetect\n",
            "Successfully installed langdetect-1.0.9\n"
          ]
        }
      ]
    },
    {
      "cell_type": "code",
      "execution_count": null,
      "metadata": {
        "id": "0Pmc_P7ucsz9"
      },
      "outputs": [],
      "source": [
        "from transformers import AutoTokenizer, AutoModelForSequenceClassification, TFAutoModelForSequenceClassification,AutoModelForSeq2SeqLM,pipeline\n",
        "import torch\n",
        "import whisper\n",
        "import tensorflow as tf\n",
        "from langdetect import detect, LangDetectException\n",
        "import os"
      ]
    },
    {
      "cell_type": "code",
      "source": [
        "SESSION_OUTPUT_LANGUAGE = \"en\"  # Default to English\n",
        "SESSION_LANGUAGE_LOCKED = False # To ensure SESSION_OUTPUT_LANGUAGE is set only once\n"
      ],
      "metadata": {
        "id": "a-9eo-80lTO7"
      },
      "execution_count": null,
      "outputs": []
    },
    {
      "cell_type": "code",
      "source": [
        "model_name = \"maiserry/DoctorBot_symptoms_disease\"\n",
        "tokenizer = AutoTokenizer.from_pretrained(model_name)\n",
        "model = AutoModelForSequenceClassification.from_pretrained(model_name)\n",
        "\n",
        "#translator = pipeline(\"translation\", model=\"Helsinki-NLP/opus-mt-ar-en\")"
      ],
      "metadata": {
        "colab": {
          "base_uri": "https://localhost:8080/",
          "referenced_widgets": [
            "1bb0e6b96b5f4217ba5b281c97a3a9b3",
            "d8dbd79f2f664038aee869c9d8c03807",
            "60275e32f19f4fcea1f09537f71d466f",
            "a118c7683cd740a8b9a1f0ed106405ba",
            "16c55bd3814b4ce283628fd5279742da"
          ]
        },
        "id": "dEK_CQIWcxqA",
        "outputId": "1b7b91b5-187d-4153-c293-4a62a5c5f9b0"
      },
      "execution_count": null,
      "outputs": [
        {
          "output_type": "display_data",
          "data": {
            "text/plain": [
              "tokenizer_config.json:   0%|          | 0.00/1.27k [00:00<?, ?B/s]"
            ],
            "application/vnd.jupyter.widget-view+json": {
              "version_major": 2,
              "version_minor": 0,
              "model_id": "1bb0e6b96b5f4217ba5b281c97a3a9b3"
            }
          },
          "metadata": {}
        },
        {
          "output_type": "display_data",
          "data": {
            "text/plain": [
              "vocab.txt:   0%|          | 0.00/232k [00:00<?, ?B/s]"
            ],
            "application/vnd.jupyter.widget-view+json": {
              "version_major": 2,
              "version_minor": 0,
              "model_id": "d8dbd79f2f664038aee869c9d8c03807"
            }
          },
          "metadata": {}
        },
        {
          "output_type": "display_data",
          "data": {
            "text/plain": [
              "special_tokens_map.json:   0%|          | 0.00/125 [00:00<?, ?B/s]"
            ],
            "application/vnd.jupyter.widget-view+json": {
              "version_major": 2,
              "version_minor": 0,
              "model_id": "60275e32f19f4fcea1f09537f71d466f"
            }
          },
          "metadata": {}
        },
        {
          "output_type": "display_data",
          "data": {
            "text/plain": [
              "config.json:   0%|          | 0.00/35.8k [00:00<?, ?B/s]"
            ],
            "application/vnd.jupyter.widget-view+json": {
              "version_major": 2,
              "version_minor": 0,
              "model_id": "a118c7683cd740a8b9a1f0ed106405ba"
            }
          },
          "metadata": {}
        },
        {
          "output_type": "display_data",
          "data": {
            "text/plain": [
              "model.safetensors:   0%|          | 0.00/440M [00:00<?, ?B/s]"
            ],
            "application/vnd.jupyter.widget-view+json": {
              "version_major": 2,
              "version_minor": 0,
              "model_id": "16c55bd3814b4ce283628fd5279742da"
            }
          },
          "metadata": {}
        }
      ]
    },
    {
      "cell_type": "code",
      "source": [
        "from huggingface_hub import hf_hub_download\n",
        "import joblib\n",
        "\n",
        "path = hf_hub_download(\"maiserry/DoctorBot_symptoms_disease\", \"label_encoder.pkl\")\n",
        "label_encoder = joblib.load(open(path, 'rb'))\n"
      ],
      "metadata": {
        "colab": {
          "base_uri": "https://localhost:8080/",
          "referenced_widgets": [
            "b5fa7b965a774545bf812084ccb0c75e"
          ]
        },
        "id": "mnp5KJIueKX4",
        "outputId": "bad315bb-e1b7-40e4-9c67-4c7ca5f84c22"
      },
      "execution_count": null,
      "outputs": [
        {
          "output_type": "display_data",
          "data": {
            "text/plain": [
              "label_encoder.pkl:   0%|          | 0.00/16.8k [00:00<?, ?B/s]"
            ],
            "application/vnd.jupyter.widget-view+json": {
              "version_major": 2,
              "version_minor": 0,
              "model_id": "b5fa7b965a774545bf812084ccb0c75e"
            }
          },
          "metadata": {}
        }
      ]
    },
    {
      "cell_type": "code",
      "source": [
        "speech_model = whisper.load_model(\"large-v3\")\n"
      ],
      "metadata": {
        "colab": {
          "base_uri": "https://localhost:8080/"
        },
        "id": "lnuGC910dUsg",
        "outputId": "1736f7b5-4e1d-44bb-f5b9-1552190bfc8e"
      },
      "execution_count": 18,
      "outputs": [
        {
          "output_type": "stream",
          "name": "stderr",
          "text": [
            "100%|█████████████████████████████████████| 2.88G/2.88G [00:48<00:00, 64.1MiB/s]\n"
          ]
        }
      ]
    },
    {
      "cell_type": "code",
      "source": [
        "import pandas as pd\n",
        "## this data will used to map department & translation disease\n",
        "df=pd.read_csv(\"/content/diseases_with_arabic.csv\")\n",
        "df.head()"
      ],
      "metadata": {
        "colab": {
          "base_uri": "https://localhost:8080/",
          "height": 206
        },
        "id": "T5ZrILMKFWfb",
        "outputId": "b4d83222-395c-45e2-bbd7-757242e7ae54"
      },
      "execution_count": 63,
      "outputs": [
        {
          "output_type": "execute_result",
          "data": {
            "text/plain": [
              "                   Disease       Department               arabic_disease\n",
              "0  postoperative infection  General Surgery  العدوى بعد العملية الجراحية\n",
              "1                 cystitis          Urology               التهاب المثانة\n",
              "2        urethral disorder          Urology            اضطراب مجرى البول\n",
              "3                 sciatica        Neurology                    عرق النسا\n",
              "4        spondylolisthesis      Orthopedics              الفقرة الفقارية"
            ],
            "text/html": [
              "\n",
              "  <div id=\"df-d0ccb818-2f28-4b1b-9f10-24307cfdca60\" class=\"colab-df-container\">\n",
              "    <div>\n",
              "<style scoped>\n",
              "    .dataframe tbody tr th:only-of-type {\n",
              "        vertical-align: middle;\n",
              "    }\n",
              "\n",
              "    .dataframe tbody tr th {\n",
              "        vertical-align: top;\n",
              "    }\n",
              "\n",
              "    .dataframe thead th {\n",
              "        text-align: right;\n",
              "    }\n",
              "</style>\n",
              "<table border=\"1\" class=\"dataframe\">\n",
              "  <thead>\n",
              "    <tr style=\"text-align: right;\">\n",
              "      <th></th>\n",
              "      <th>Disease</th>\n",
              "      <th>Department</th>\n",
              "      <th>arabic_disease</th>\n",
              "    </tr>\n",
              "  </thead>\n",
              "  <tbody>\n",
              "    <tr>\n",
              "      <th>0</th>\n",
              "      <td>postoperative infection</td>\n",
              "      <td>General Surgery</td>\n",
              "      <td>العدوى بعد العملية الجراحية</td>\n",
              "    </tr>\n",
              "    <tr>\n",
              "      <th>1</th>\n",
              "      <td>cystitis</td>\n",
              "      <td>Urology</td>\n",
              "      <td>التهاب المثانة</td>\n",
              "    </tr>\n",
              "    <tr>\n",
              "      <th>2</th>\n",
              "      <td>urethral disorder</td>\n",
              "      <td>Urology</td>\n",
              "      <td>اضطراب مجرى البول</td>\n",
              "    </tr>\n",
              "    <tr>\n",
              "      <th>3</th>\n",
              "      <td>sciatica</td>\n",
              "      <td>Neurology</td>\n",
              "      <td>عرق النسا</td>\n",
              "    </tr>\n",
              "    <tr>\n",
              "      <th>4</th>\n",
              "      <td>spondylolisthesis</td>\n",
              "      <td>Orthopedics</td>\n",
              "      <td>الفقرة الفقارية</td>\n",
              "    </tr>\n",
              "  </tbody>\n",
              "</table>\n",
              "</div>\n",
              "    <div class=\"colab-df-buttons\">\n",
              "\n",
              "  <div class=\"colab-df-container\">\n",
              "    <button class=\"colab-df-convert\" onclick=\"convertToInteractive('df-d0ccb818-2f28-4b1b-9f10-24307cfdca60')\"\n",
              "            title=\"Convert this dataframe to an interactive table.\"\n",
              "            style=\"display:none;\">\n",
              "\n",
              "  <svg xmlns=\"http://www.w3.org/2000/svg\" height=\"24px\" viewBox=\"0 -960 960 960\">\n",
              "    <path d=\"M120-120v-720h720v720H120Zm60-500h600v-160H180v160Zm220 220h160v-160H400v160Zm0 220h160v-160H400v160ZM180-400h160v-160H180v160Zm440 0h160v-160H620v160ZM180-180h160v-160H180v160Zm440 0h160v-160H620v160Z\"/>\n",
              "  </svg>\n",
              "    </button>\n",
              "\n",
              "  <style>\n",
              "    .colab-df-container {\n",
              "      display:flex;\n",
              "      gap: 12px;\n",
              "    }\n",
              "\n",
              "    .colab-df-convert {\n",
              "      background-color: #E8F0FE;\n",
              "      border: none;\n",
              "      border-radius: 50%;\n",
              "      cursor: pointer;\n",
              "      display: none;\n",
              "      fill: #1967D2;\n",
              "      height: 32px;\n",
              "      padding: 0 0 0 0;\n",
              "      width: 32px;\n",
              "    }\n",
              "\n",
              "    .colab-df-convert:hover {\n",
              "      background-color: #E2EBFA;\n",
              "      box-shadow: 0px 1px 2px rgba(60, 64, 67, 0.3), 0px 1px 3px 1px rgba(60, 64, 67, 0.15);\n",
              "      fill: #174EA6;\n",
              "    }\n",
              "\n",
              "    .colab-df-buttons div {\n",
              "      margin-bottom: 4px;\n",
              "    }\n",
              "\n",
              "    [theme=dark] .colab-df-convert {\n",
              "      background-color: #3B4455;\n",
              "      fill: #D2E3FC;\n",
              "    }\n",
              "\n",
              "    [theme=dark] .colab-df-convert:hover {\n",
              "      background-color: #434B5C;\n",
              "      box-shadow: 0px 1px 3px 1px rgba(0, 0, 0, 0.15);\n",
              "      filter: drop-shadow(0px 1px 2px rgba(0, 0, 0, 0.3));\n",
              "      fill: #FFFFFF;\n",
              "    }\n",
              "  </style>\n",
              "\n",
              "    <script>\n",
              "      const buttonEl =\n",
              "        document.querySelector('#df-d0ccb818-2f28-4b1b-9f10-24307cfdca60 button.colab-df-convert');\n",
              "      buttonEl.style.display =\n",
              "        google.colab.kernel.accessAllowed ? 'block' : 'none';\n",
              "\n",
              "      async function convertToInteractive(key) {\n",
              "        const element = document.querySelector('#df-d0ccb818-2f28-4b1b-9f10-24307cfdca60');\n",
              "        const dataTable =\n",
              "          await google.colab.kernel.invokeFunction('convertToInteractive',\n",
              "                                                    [key], {});\n",
              "        if (!dataTable) return;\n",
              "\n",
              "        const docLinkHtml = 'Like what you see? Visit the ' +\n",
              "          '<a target=\"_blank\" href=https://colab.research.google.com/notebooks/data_table.ipynb>data table notebook</a>'\n",
              "          + ' to learn more about interactive tables.';\n",
              "        element.innerHTML = '';\n",
              "        dataTable['output_type'] = 'display_data';\n",
              "        await google.colab.output.renderOutput(dataTable, element);\n",
              "        const docLink = document.createElement('div');\n",
              "        docLink.innerHTML = docLinkHtml;\n",
              "        element.appendChild(docLink);\n",
              "      }\n",
              "    </script>\n",
              "  </div>\n",
              "\n",
              "\n",
              "    <div id=\"df-e6f73e7b-1470-4801-a7a3-859c9511fef4\">\n",
              "      <button class=\"colab-df-quickchart\" onclick=\"quickchart('df-e6f73e7b-1470-4801-a7a3-859c9511fef4')\"\n",
              "                title=\"Suggest charts\"\n",
              "                style=\"display:none;\">\n",
              "\n",
              "<svg xmlns=\"http://www.w3.org/2000/svg\" height=\"24px\"viewBox=\"0 0 24 24\"\n",
              "     width=\"24px\">\n",
              "    <g>\n",
              "        <path d=\"M19 3H5c-1.1 0-2 .9-2 2v14c0 1.1.9 2 2 2h14c1.1 0 2-.9 2-2V5c0-1.1-.9-2-2-2zM9 17H7v-7h2v7zm4 0h-2V7h2v10zm4 0h-2v-4h2v4z\"/>\n",
              "    </g>\n",
              "</svg>\n",
              "      </button>\n",
              "\n",
              "<style>\n",
              "  .colab-df-quickchart {\n",
              "      --bg-color: #E8F0FE;\n",
              "      --fill-color: #1967D2;\n",
              "      --hover-bg-color: #E2EBFA;\n",
              "      --hover-fill-color: #174EA6;\n",
              "      --disabled-fill-color: #AAA;\n",
              "      --disabled-bg-color: #DDD;\n",
              "  }\n",
              "\n",
              "  [theme=dark] .colab-df-quickchart {\n",
              "      --bg-color: #3B4455;\n",
              "      --fill-color: #D2E3FC;\n",
              "      --hover-bg-color: #434B5C;\n",
              "      --hover-fill-color: #FFFFFF;\n",
              "      --disabled-bg-color: #3B4455;\n",
              "      --disabled-fill-color: #666;\n",
              "  }\n",
              "\n",
              "  .colab-df-quickchart {\n",
              "    background-color: var(--bg-color);\n",
              "    border: none;\n",
              "    border-radius: 50%;\n",
              "    cursor: pointer;\n",
              "    display: none;\n",
              "    fill: var(--fill-color);\n",
              "    height: 32px;\n",
              "    padding: 0;\n",
              "    width: 32px;\n",
              "  }\n",
              "\n",
              "  .colab-df-quickchart:hover {\n",
              "    background-color: var(--hover-bg-color);\n",
              "    box-shadow: 0 1px 2px rgba(60, 64, 67, 0.3), 0 1px 3px 1px rgba(60, 64, 67, 0.15);\n",
              "    fill: var(--button-hover-fill-color);\n",
              "  }\n",
              "\n",
              "  .colab-df-quickchart-complete:disabled,\n",
              "  .colab-df-quickchart-complete:disabled:hover {\n",
              "    background-color: var(--disabled-bg-color);\n",
              "    fill: var(--disabled-fill-color);\n",
              "    box-shadow: none;\n",
              "  }\n",
              "\n",
              "  .colab-df-spinner {\n",
              "    border: 2px solid var(--fill-color);\n",
              "    border-color: transparent;\n",
              "    border-bottom-color: var(--fill-color);\n",
              "    animation:\n",
              "      spin 1s steps(1) infinite;\n",
              "  }\n",
              "\n",
              "  @keyframes spin {\n",
              "    0% {\n",
              "      border-color: transparent;\n",
              "      border-bottom-color: var(--fill-color);\n",
              "      border-left-color: var(--fill-color);\n",
              "    }\n",
              "    20% {\n",
              "      border-color: transparent;\n",
              "      border-left-color: var(--fill-color);\n",
              "      border-top-color: var(--fill-color);\n",
              "    }\n",
              "    30% {\n",
              "      border-color: transparent;\n",
              "      border-left-color: var(--fill-color);\n",
              "      border-top-color: var(--fill-color);\n",
              "      border-right-color: var(--fill-color);\n",
              "    }\n",
              "    40% {\n",
              "      border-color: transparent;\n",
              "      border-right-color: var(--fill-color);\n",
              "      border-top-color: var(--fill-color);\n",
              "    }\n",
              "    60% {\n",
              "      border-color: transparent;\n",
              "      border-right-color: var(--fill-color);\n",
              "    }\n",
              "    80% {\n",
              "      border-color: transparent;\n",
              "      border-right-color: var(--fill-color);\n",
              "      border-bottom-color: var(--fill-color);\n",
              "    }\n",
              "    90% {\n",
              "      border-color: transparent;\n",
              "      border-bottom-color: var(--fill-color);\n",
              "    }\n",
              "  }\n",
              "</style>\n",
              "\n",
              "      <script>\n",
              "        async function quickchart(key) {\n",
              "          const quickchartButtonEl =\n",
              "            document.querySelector('#' + key + ' button');\n",
              "          quickchartButtonEl.disabled = true;  // To prevent multiple clicks.\n",
              "          quickchartButtonEl.classList.add('colab-df-spinner');\n",
              "          try {\n",
              "            const charts = await google.colab.kernel.invokeFunction(\n",
              "                'suggestCharts', [key], {});\n",
              "          } catch (error) {\n",
              "            console.error('Error during call to suggestCharts:', error);\n",
              "          }\n",
              "          quickchartButtonEl.classList.remove('colab-df-spinner');\n",
              "          quickchartButtonEl.classList.add('colab-df-quickchart-complete');\n",
              "        }\n",
              "        (() => {\n",
              "          let quickchartButtonEl =\n",
              "            document.querySelector('#df-e6f73e7b-1470-4801-a7a3-859c9511fef4 button');\n",
              "          quickchartButtonEl.style.display =\n",
              "            google.colab.kernel.accessAllowed ? 'block' : 'none';\n",
              "        })();\n",
              "      </script>\n",
              "    </div>\n",
              "\n",
              "    </div>\n",
              "  </div>\n"
            ],
            "application/vnd.google.colaboratory.intrinsic+json": {
              "type": "dataframe",
              "variable_name": "df",
              "summary": "{\n  \"name\": \"df\",\n  \"rows\": 773,\n  \"fields\": [\n    {\n      \"column\": \"Disease\",\n      \"properties\": {\n        \"dtype\": \"string\",\n        \"num_unique_values\": 773,\n        \"samples\": [\n          \"polycythemia vera\",\n          \"open wound of the nose\",\n          \"urethral stricture\"\n        ],\n        \"semantic_type\": \"\",\n        \"description\": \"\"\n      }\n    },\n    {\n      \"column\": \"Department\",\n      \"properties\": {\n        \"dtype\": \"category\",\n        \"num_unique_values\": 31,\n        \"samples\": [\n          \"Immunology\",\n          \"Oncology\",\n          \"Hematology\"\n        ],\n        \"semantic_type\": \"\",\n        \"description\": \"\"\n      }\n    },\n    {\n      \"column\": \"arabic_disease\",\n      \"properties\": {\n        \"dtype\": \"string\",\n        \"num_unique_values\": 768,\n        \"samples\": [\n          \"\\u0625\\u0635\\u0627\\u0628\\u0629 \\u0627\\u0644\\u0625\\u0635\\u0628\\u0639\",\n          \"\\u0623\\u062d\\u0627\\u062f\\u064a\\u0629 \\u0627\\u0644\\u0646\\u0648\\u0649\",\n          \"\\u0627\\u0644\\u062a\\u0647\\u0627\\u0628 \\u0627\\u0644\\u0641\\u0642\\u0631\\u0627\\u062a \\u0627\\u0644\\u062a\\u0635\\u0644\\u0628\\u064a\"\n        ],\n        \"semantic_type\": \"\",\n        \"description\": \"\"\n      }\n    }\n  ]\n}"
            }
          },
          "metadata": {},
          "execution_count": 63
        }
      ]
    },
    {
      "cell_type": "code",
      "source": [
        "df.shape"
      ],
      "metadata": {
        "colab": {
          "base_uri": "https://localhost:8080/"
        },
        "id": "hB4SYtmCFoRo",
        "outputId": "fd36d64f-117c-4c73-f539-299eb87cca0b"
      },
      "execution_count": 64,
      "outputs": [
        {
          "output_type": "execute_result",
          "data": {
            "text/plain": [
              "(773, 3)"
            ]
          },
          "metadata": {},
          "execution_count": 64
        }
      ]
    },
    {
      "cell_type": "code",
      "source": [
        "department_translations = {\n",
        "    'Allergy': 'حساسيه',\n",
        "    'Cardiology': 'أمراض القلب',\n",
        "    'Colorectal Surgery': 'جراحة القولون والمستقيم',\n",
        "    'Dentistry': 'طب الاسنان ',\n",
        "    'Dermatology': 'امراض جلدية وتجميلية',\n",
        "    'ENT': 'انف واذن وحنجره',\n",
        "    'Emergency Medicine': 'Emergency Medicine',\n",
        "    'Endocrinology': 'الطب الباطني / الغدد الصماء',\n",
        "    'Gastroenterology': 'الجهاز الهضمي',\n",
        "    'General Surgery': 'جراحة عامة',\n",
        "    'Gynecology': 'طب النساء',\n",
        "    'Hematology': 'أمراض الدم',\n",
        "    'Immunology': 'Immunology',\n",
        "    'Infectious Disease': 'امراض معدية',\n",
        "    'Nephrology': 'أمراض الكلى',\n",
        "    'Neurology': 'أمراض الأعصاب',\n",
        "    'Neurosurgery': 'جراحة الأعصاب',\n",
        "    'Nutrition': 'تغذاية',\n",
        "    'Obstetrics': 'طب التوليد',\n",
        "    'Oncology': 'الاورام',\n",
        "    'Ophthalmology': 'طب العيون',\n",
        "    'Orthopedics': 'العظام',\n",
        "    'Pediatrics': 'طب الأطفال',\n",
        "    'Plastic Surgery': 'جراحة تجميلية',\n",
        "    'Psychiatry': 'الطب النفسي',\n",
        "    'Pulmonology': 'أمراض الصدر',\n",
        "    'Rheumatology': 'الروماتيزم',\n",
        "    'Thoracic Surgery': 'جراحة الصدر',\n",
        "    'Trauma Surgery': 'Trauma Surgery',\n",
        "    'Urology': 'المسالك البولية',\n",
        "    'Vascular Surgery': 'جراحة الأوعية الدموية',\n",
        "}\n"
      ],
      "metadata": {
        "id": "cU_agf1F3L5w"
      },
      "execution_count": 46,
      "outputs": []
    },
    {
      "cell_type": "code",
      "source": [
        "#pip install rapidfuzz"
      ],
      "metadata": {
        "colab": {
          "base_uri": "https://localhost:8080/"
        },
        "id": "t71ZBuAvWZkl",
        "outputId": "b9cf79a0-12ea-424a-e12c-68a70ae7dd84"
      },
      "execution_count": null,
      "outputs": [
        {
          "output_type": "stream",
          "name": "stdout",
          "text": [
            "Collecting rapidfuzz\n",
            "  Downloading rapidfuzz-3.13.0-cp311-cp311-manylinux_2_17_x86_64.manylinux2014_x86_64.whl.metadata (12 kB)\n",
            "Downloading rapidfuzz-3.13.0-cp311-cp311-manylinux_2_17_x86_64.manylinux2014_x86_64.whl (3.1 MB)\n",
            "\u001b[?25l   \u001b[90m━━━━━━━━━━━━━━━━━━━━━━━━━━━━━━━━━━━━━━━━\u001b[0m \u001b[32m0.0/3.1 MB\u001b[0m \u001b[31m?\u001b[0m eta \u001b[36m-:--:--\u001b[0m\r\u001b[2K   \u001b[91m━━━━━━━━━━━━━━━━━━━━━━━━━━━━━━━━━\u001b[0m\u001b[91m╸\u001b[0m\u001b[90m━━━━━━\u001b[0m \u001b[32m2.6/3.1 MB\u001b[0m \u001b[31m78.4 MB/s\u001b[0m eta \u001b[36m0:00:01\u001b[0m\r\u001b[2K   \u001b[90m━━━━━━━━━━━━━━━━━━━━━━━━━━━━━━━━━━━━━━━━\u001b[0m \u001b[32m3.1/3.1 MB\u001b[0m \u001b[31m48.2 MB/s\u001b[0m eta \u001b[36m0:00:00\u001b[0m\n",
            "\u001b[?25hInstalling collected packages: rapidfuzz\n",
            "Successfully installed rapidfuzz-3.13.0\n"
          ]
        }
      ]
    },
    {
      "cell_type": "code",
      "source": [
        "#from rapidfuzz import fuzz,process\n"
      ],
      "metadata": {
        "id": "ymziTl8SWWkF"
      },
      "execution_count": null,
      "outputs": []
    },
    {
      "cell_type": "code",
      "source": [
        "translation_model_name = \"facebook/m2m100_418M\"\n",
        "translation_tokenizer = AutoTokenizer.from_pretrained(translation_model_name)\n",
        "translation_model = AutoModelForSeq2SeqLM.from_pretrained(translation_model_name)"
      ],
      "metadata": {
        "id": "p5FnF-broU98",
        "colab": {
          "base_uri": "https://localhost:8080/",
          "height": 397,
          "referenced_widgets": [
            "6ffa8b8772084bdbb5372c7dcafef3ba",
            "04757d43198b4f8d83901ca489a41c4a",
            "335ce9a33385412cbe378b1f36e269de",
            "c7c92c28a2974366b8c0ece2c09c4a97",
            "4afa6c0f6230469f82de0df7fdd4d835",
            "f3f99b96522c42168836cf16dbed0c33",
            "fca1f03fd8ca4986897f60bb2c420c4c",
            "4ecb42f3bd60410b886a2ec54e7d8e36",
            "6b5582b3d200443abfe0bb3777611500",
            "1ba6f11ca80c42f582f44f262d5607f2",
            "b23c5a43361d40d6ba02861ace4f279f",
            "d3061565441646cf842d8e7a9010fb34",
            "024a1c53b5ea4ea49dc637a0b56d558e",
            "92505806c2574e68afb0224b3b7a0462",
            "d17b50d60b3344fc9f23a32b6d9f8f57",
            "e4202f19bf634d55aa9728b88312ec21",
            "a743898d335a4f0ca1d4e6633011fa24",
            "4cffedd831624af79d81bbb308a86629",
            "9469d7cd1aac411e8c890919c3596d1f",
            "f5fbf3d02912417eb4a26d463e3948a0",
            "6925c7dc8c0b456394897fcedf8473b9",
            "9b24673dc9e64fad88bcee18b29fa8e1",
            "eef1399bcbb64531acf6a050dc2dc86a",
            "4ea14c71da084a539d84b780c0fbc724",
            "11802f25994145c5969bed7b8ef85e0e",
            "356172650f934d42be2794fddc0fa049",
            "689efeefbc1047cd980ded93e71643f3",
            "bd80e2f79721415ca3abf259ac742168",
            "26c69de5ab9640e8a2c4a9a3c0691218",
            "9f369982b1b04a758a0c1c775bce8fcc",
            "cb62e3f04c17460da8844053e2a7cc6d",
            "2b2ea2c7ab454e88b1e21525d38645a1",
            "5a6b9042d47e40feb6efbaf96499d3de",
            "4aa2a835351c4025a1cef79bf3bb944c",
            "a751443c1dbf46d59641ff83e7a1dcf8",
            "310d136aba64484bb7f0284330afcd20",
            "86d11878fe7843d59fd3138a072d0a67",
            "4dc1dcee5edb49ee9958577d0067e10a",
            "70e8abe6eeef442eb822768c9e6f8571",
            "7892b7094e774b32886f85f130bc9041",
            "cbddabc26ece436b989a3fee8ca0f7cf",
            "2d21a124ee064a2fafab9f4ed6183868",
            "7c00adfdc34a4f3dbc69bfd0f7ea4e65",
            "d2c132360d054cc0ab901edb95489735",
            "e78ba4bed2bf4ae3845cb9c02307ec9e",
            "18b9fac1794d4ebc8312c40a5a68f925",
            "f51fa4ed27cd43928b2c1ff81727e74c",
            "6d584471dbae4b62a0f1b19c2d404c6a",
            "c895c2b4f7f149efb62ff0e1c2a8d478",
            "60410b7eb53c4d83b58ac70a46f73be0",
            "c7a5d9303df84938b568775de7865d41",
            "1dd15479f5184be3b2a23edc28ec7039",
            "a6f11f6f4b9444919df0de30d4a9b128",
            "09b45a4f7a7c45c194ec2df1ef1c75ec",
            "004d1c70fd6b4877b767be6f9a3bc566",
            "0a8436fe7eed42a58c56e12f11958fb1",
            "ed466a22d6ab4e4b8dcbc2d5b99bba19",
            "2c5399c93dc3442c93df66e77d71f518",
            "9fdb9f29fa3c4e709b1e1404368b259f",
            "4cdd0f85924f4fc588c7459c7c18bb47",
            "12b3b58874ff4b8b949c5b8a9347f3a7",
            "55b119f2402747f7969aa5e1f94e1021",
            "bc6dc5e0cfa246e88da3e8a8b2349ee1",
            "72c3b2a6a9624ee0a55c138aa346c549",
            "f9b8e18cba1b40e58b1fb265f784fdfe",
            "cf40c54fb5c0492b90e0a0e8b2b14009",
            "7838fad53c7d4a1aa83acc448b9a8773",
            "0cbfa9ad6b5d49ed97d835d82830eacb",
            "c751436dfec047efbde4da05ebd0c652",
            "4896325bbb544313879553577ead294b",
            "846741bb934a41b0b67035ff99b82989",
            "b4abd041d89540e19d241af8424e3180",
            "2a035e36fc84462f89d9cba91e5751be",
            "0e1b9d0f92324fa29f5b610ce948399a",
            "c240cb28f3414bf698026691c937c1b7",
            "9c0a3aca25c543158972d034ca0c2714",
            "b720ec85babc4ab0b296cdcaa4f8d4e6",
            "baec9897de584156a0d050dd586526f9",
            "974cd32da1c44efbad2bc1aae0849433",
            "34cc92d248784c348bc440c61e347450",
            "fde80e753ce44967a00da2088ef9f48b",
            "dda049aff3bb46e4933572b9198b7270",
            "a559fcd85b89415db563e16fd947ecf5",
            "4da7943a0dcf439bae8fce6b219fc2d0",
            "b5ff777100094310a9e0ee07e90f4d3b",
            "28cb8bc4f5d0440d9d0563bc91e1aa84",
            "4c51183409da45b69c2a9271a29aed98",
            "873d8f82f4a844e4b42ed52917a69e1c"
          ]
        },
        "outputId": "dd4c53b7-b30e-4a31-93bc-5d56eda1c485"
      },
      "execution_count": 53,
      "outputs": [
        {
          "output_type": "display_data",
          "data": {
            "text/plain": [
              "tokenizer_config.json:   0%|          | 0.00/298 [00:00<?, ?B/s]"
            ],
            "application/vnd.jupyter.widget-view+json": {
              "version_major": 2,
              "version_minor": 0,
              "model_id": "6ffa8b8772084bdbb5372c7dcafef3ba"
            }
          },
          "metadata": {}
        },
        {
          "output_type": "display_data",
          "data": {
            "text/plain": [
              "config.json:   0%|          | 0.00/908 [00:00<?, ?B/s]"
            ],
            "application/vnd.jupyter.widget-view+json": {
              "version_major": 2,
              "version_minor": 0,
              "model_id": "d3061565441646cf842d8e7a9010fb34"
            }
          },
          "metadata": {}
        },
        {
          "output_type": "display_data",
          "data": {
            "text/plain": [
              "vocab.json:   0%|          | 0.00/3.71M [00:00<?, ?B/s]"
            ],
            "application/vnd.jupyter.widget-view+json": {
              "version_major": 2,
              "version_minor": 0,
              "model_id": "eef1399bcbb64531acf6a050dc2dc86a"
            }
          },
          "metadata": {}
        },
        {
          "output_type": "stream",
          "name": "stderr",
          "text": [
            "Xet Storage is enabled for this repo, but the 'hf_xet' package is not installed. Falling back to regular HTTP download. For better performance, install the package with: `pip install huggingface_hub[hf_xet]` or `pip install hf_xet`\n",
            "WARNING:huggingface_hub.file_download:Xet Storage is enabled for this repo, but the 'hf_xet' package is not installed. Falling back to regular HTTP download. For better performance, install the package with: `pip install huggingface_hub[hf_xet]` or `pip install hf_xet`\n"
          ]
        },
        {
          "output_type": "display_data",
          "data": {
            "text/plain": [
              "sentencepiece.bpe.model:   0%|          | 0.00/2.42M [00:00<?, ?B/s]"
            ],
            "application/vnd.jupyter.widget-view+json": {
              "version_major": 2,
              "version_minor": 0,
              "model_id": "4aa2a835351c4025a1cef79bf3bb944c"
            }
          },
          "metadata": {}
        },
        {
          "output_type": "display_data",
          "data": {
            "text/plain": [
              "special_tokens_map.json:   0%|          | 0.00/1.14k [00:00<?, ?B/s]"
            ],
            "application/vnd.jupyter.widget-view+json": {
              "version_major": 2,
              "version_minor": 0,
              "model_id": "e78ba4bed2bf4ae3845cb9c02307ec9e"
            }
          },
          "metadata": {}
        },
        {
          "output_type": "stream",
          "name": "stderr",
          "text": [
            "Xet Storage is enabled for this repo, but the 'hf_xet' package is not installed. Falling back to regular HTTP download. For better performance, install the package with: `pip install huggingface_hub[hf_xet]` or `pip install hf_xet`\n",
            "WARNING:huggingface_hub.file_download:Xet Storage is enabled for this repo, but the 'hf_xet' package is not installed. Falling back to regular HTTP download. For better performance, install the package with: `pip install huggingface_hub[hf_xet]` or `pip install hf_xet`\n"
          ]
        },
        {
          "output_type": "display_data",
          "data": {
            "text/plain": [
              "pytorch_model.bin:   0%|          | 0.00/1.94G [00:00<?, ?B/s]"
            ],
            "application/vnd.jupyter.widget-view+json": {
              "version_major": 2,
              "version_minor": 0,
              "model_id": "0a8436fe7eed42a58c56e12f11958fb1"
            }
          },
          "metadata": {}
        },
        {
          "output_type": "stream",
          "name": "stderr",
          "text": [
            "Xet Storage is enabled for this repo, but the 'hf_xet' package is not installed. Falling back to regular HTTP download. For better performance, install the package with: `pip install huggingface_hub[hf_xet]` or `pip install hf_xet`\n",
            "WARNING:huggingface_hub.file_download:Xet Storage is enabled for this repo, but the 'hf_xet' package is not installed. Falling back to regular HTTP download. For better performance, install the package with: `pip install huggingface_hub[hf_xet]` or `pip install hf_xet`\n"
          ]
        },
        {
          "output_type": "display_data",
          "data": {
            "text/plain": [
              "model.safetensors:   0%|          | 0.00/1.94G [00:00<?, ?B/s]"
            ],
            "application/vnd.jupyter.widget-view+json": {
              "version_major": 2,
              "version_minor": 0,
              "model_id": "7838fad53c7d4a1aa83acc448b9a8773"
            }
          },
          "metadata": {}
        },
        {
          "output_type": "display_data",
          "data": {
            "text/plain": [
              "generation_config.json:   0%|          | 0.00/233 [00:00<?, ?B/s]"
            ],
            "application/vnd.jupyter.widget-view+json": {
              "version_major": 2,
              "version_minor": 0,
              "model_id": "baec9897de584156a0d050dd586526f9"
            }
          },
          "metadata": {}
        }
      ]
    },
    {
      "cell_type": "code",
      "source": [
        "\"\"\"dialect_to_fusha = {\n",
        "    \"بطني بتوجعني\": \"أشعر بألم في البطن\",\n",
        "    \"نفسي مسدودة\": \"لا أشعر بالجوع\",\n",
        "    \"عندى سخونية\": \"أعاني من الحمى\",\n",
        "    \"مش قادر أقف\": \"أشعر بالإرهاق\",\n",
        "    \"رجلى بتوجعني\": \"أعاني من ألم في الساق\",\n",
        "    \"نفسى غمه عليا\": \"أشعر بالغثيان\",\n",
        "    \"نفسى مسدوده\":\"لا أشعر بالجوع\",\n",
        "    \"زورى بيوجعنى \":\"اشعر بألم فى الحلق\",\n",
        "    \"سوخنه\":\"حمى\",\n",
        "    \"سوخنيه\":\"حمى\",\n",
        "    \"راسي بتوجعني\": \"أعاني من صداع\",\n",
        "     # هضمية\n",
        "    \"عندى حموضة\": \"أعاني من حرقة في المعدة\",\n",
        "    \"بشعر بثقل في بطني\": \"أعاني من عسر هضم\",\n",
        "    \"معدتى بتوجعني\": \"أشعر بألم في المعدة\",\n",
        "    \"بشعر بوجع تحت الضلوع\": \"أعاني من ألم في الجانب الأيمن/الأيسر\",\n",
        "\n",
        "    # تنفسية\n",
        "    \"نفسى بيقطع\": \"أعاني من ضيق تنفس\",\n",
        "    \"مش قادر اخد نفس\": \"أعاني من صعوبة في التنفس\",\n",
        "    \"بلغم\": \"لدي إفرازات مخاطية\",\n",
        "\n",
        "    # أمراض شائعة\n",
        "    \"عندى ضغط\": \"أعاني من ارتفاع ضغط الدم\",\n",
        "    \"عندى سكر\": \"أعاني من مرض السكري\",\n",
        "    \"عندى حساسية\": \"لدي رد فعل تحسسي\",\n",
        "    \"عندى ربو\": \"أعاني من الربو\",\n",
        "    \"عندى أنيميا\": \"أعاني من فقر الدم\",\n",
        "\n",
        "}\"\"\""
      ],
      "metadata": {
        "id": "zhDq39QRSxON"
      },
      "execution_count": null,
      "outputs": []
    },
    {
      "cell_type": "code",
      "source": [
        "# 3. text into phrases\n",
        "#def split_to_phrases(text):\n",
        " #   return re.split(r\"[،,؛]| و |\\.|\\n\", text)"
      ],
      "metadata": {
        "id": "oNk7yf7uv6hE"
      },
      "execution_count": null,
      "outputs": []
    },
    {
      "cell_type": "code",
      "source": [
        "\"\"\"from rapidfuzz import fuzz, process\n",
        "\n",
        "def convert_to_fusha(text):\n",
        "    threshold=80\n",
        "    phrases = split_to_phrases(text)\n",
        "    converted_phrases = []\n",
        "    for phrase in phrases:\n",
        "        match = process.extractOne(phrase, dialect_to_fusha.keys(), scorer=fuzz.ratio)\n",
        "        if match:\n",
        "            best_match, score, _ = match\n",
        "            if score >= threshold:\n",
        "                converted_phrases.append(dialect_to_fusha[best_match])\n",
        "            else:\n",
        "                converted_phrases.append(phrase)\n",
        "        else:\n",
        "            converted_phrases.append(phrase)\n",
        "    return \". \".join(converted_phrases)\n",
        "\"\"\""
      ],
      "metadata": {
        "id": "3z8mQasmv7xe"
      },
      "execution_count": null,
      "outputs": []
    },
    {
      "cell_type": "code",
      "source": [],
      "metadata": {
        "id": "x8BpujUqV1QO"
      },
      "execution_count": null,
      "outputs": []
    },
    {
      "cell_type": "code",
      "source": [
        "## we canceled use this function and alternatively uesd df['arabic_disease'] to reduce the Response time\n",
        "## but may use in transLate later like arabic chat\n",
        "def translate_with_model(text, target_lang, source_lang=None):\n",
        "    global translation_tokenizer, translation_model\n",
        "    if not text or not text.strip():\n",
        "        return \"\"\n",
        "    if source_lang:\n",
        "        translation_tokenizer.src_lang = source_lang\n",
        "    forced_bos_id = translation_tokenizer.get_lang_id(target_lang)\n",
        "    inputs = translation_tokenizer(text, return_tensors=\"pt\", padding=True, truncation=True, max_length=512)\n",
        "    translated_tokens = translation_model.generate(**inputs, forced_bos_token_id=forced_bos_id)\n",
        "    translated_text = translation_tokenizer.batch_decode(translated_tokens, skip_special_tokens=True)[0] #\n",
        "    return translated_text"
      ],
      "metadata": {
        "id": "sloFrIcmv-77"
      },
      "execution_count": 81,
      "outputs": []
    },
    {
      "cell_type": "code",
      "source": [
        "translate_with_model(\"i have alot of pain\", \"ar\", \"en\")"
      ],
      "metadata": {
        "colab": {
          "base_uri": "https://localhost:8080/",
          "height": 36
        },
        "id": "3Z4FGfUploRX",
        "outputId": "f0bbc3b1-12bc-4745-a1b5-27f4ff9bed95"
      },
      "execution_count": 55,
      "outputs": [
        {
          "output_type": "execute_result",
          "data": {
            "text/plain": [
              "'أنا أعاني من الألم'"
            ],
            "application/vnd.google.colaboratory.intrinsic+json": {
              "type": "string"
            }
          },
          "metadata": {},
          "execution_count": 55
        }
      ]
    },
    {
      "cell_type": "code",
      "source": [
        "# 6. final function to arabic\n",
        "#def translate_dialect_to_english(text):\n",
        " #   phrases = split_to_phrases(text)\n",
        "    #fusha_phrases = [convert_to_fusha(p) for p in phrases if p.strip()]\n",
        "    #full_sentence = \". \".join(fusha_phrases)\n",
        "   # full_sentence = convert_to_fusha(text)\n",
        "    #print(\"🔍 الجملة بعد التحويل إلى الفصحى:\", full_sentence)\n",
        "    #return translate_with_model(full_sentence)\n"
      ],
      "metadata": {
        "id": "m-P8dA16wEdr"
      },
      "execution_count": null,
      "outputs": []
    },
    {
      "cell_type": "code",
      "source": [
        "from openai import OpenAI\n",
        "def translate_arabic_to_medical_english(arabic_text):\n",
        "\n",
        "    client = OpenAI(\n",
        "      base_url=\"https://openrouter.ai/api/v1\",\n",
        "      api_key=\"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\",\n",
        "    )\n",
        "\n",
        "    prompt_message =  f\"\"\"\n",
        "    Translate the following Egyptian colloquial Arabic medical symptom description into concise, standard medical English suitable for a clinical setting.\n",
        "\n",
        "     Only return the translated symptoms on **one line**, separated by commas.\n",
        "\n",
        "    ❗ Do NOT include anything else — no headings, no explanations, no phrases like \"Here is the translation\" or \"Translation:\", just the symptom list. Arabic: {arabic_text} English:\"\"\"\n",
        "\n",
        "    completion = client.chat.completions.create(\n",
        "      model=\"deepseek/deepseek-r1-0528:free\",\n",
        "      messages= [\n",
        "                {\"role\": \"system\", \"content\": \"You are an expert medical translator specializing in Egyptian colloquial Arabic to medical English.\"},\n",
        "                {\"role\": \"user\", \"content\": prompt_message}\n",
        "            ],\n",
        "    )\n",
        "\n",
        "    return completion.choices[0].message.content.strip()"
      ],
      "metadata": {
        "id": "VL5v91gNbcCw"
      },
      "execution_count": 84,
      "outputs": []
    },
    {
      "cell_type": "code",
      "source": [
        "translate_arabic_to_medical_english('زورى وجعانى وعندى احتقان')"
      ],
      "metadata": {
        "colab": {
          "base_uri": "https://localhost:8080/",
          "height": 36
        },
        "id": "9_k_FE-QQCwy",
        "outputId": "400ebc6d-021c-46ac-e8ea-bd37f478ec18"
      },
      "execution_count": 86,
      "outputs": [
        {
          "output_type": "execute_result",
          "data": {
            "text/plain": [
              "'throat pain, congestion'"
            ],
            "application/vnd.google.colaboratory.intrinsic+json": {
              "type": "string"
            }
          },
          "metadata": {},
          "execution_count": 86
        }
      ]
    },
    {
      "cell_type": "code",
      "source": [
        "translate_arabic_to_medical_english('بطنى وجعانى وحسه بصداع ')\n"
      ],
      "metadata": {
        "colab": {
          "base_uri": "https://localhost:8080/",
          "height": 36
        },
        "id": "s3vZBb_dh-yF",
        "outputId": "8188d16d-fd53-443f-adc1-30a3aa18c7de"
      },
      "execution_count": 102,
      "outputs": [
        {
          "output_type": "execute_result",
          "data": {
            "text/plain": [
              "'abdominal pain, headache'"
            ],
            "application/vnd.google.colaboratory.intrinsic+json": {
              "type": "string"
            }
          },
          "metadata": {},
          "execution_count": 102
        }
      ]
    },
    {
      "cell_type": "code",
      "source": [
        "import torch.nn.functional as F\n",
        "\n",
        "def predict_disease(symptoms_in_english, top_n=3,threshold=0.30):\n",
        "\n",
        "    inputs = tokenizer(symptoms_in_english, return_tensors=\"pt\", padding=True, truncation=True, max_length=512)\n",
        "    outputs = model(**inputs)\n",
        "    CONFIDENCE_THRESHOLD = threshold\n",
        "\n",
        "    probabilities = F.softmax(outputs.logits, dim=1)[0]\n",
        "\n",
        "    top_probs, top_indices = torch.topk(probabilities, k=top_n)\n",
        "\n",
        "\n",
        "    if top_probs[0].item() < CONFIDENCE_THRESHOLD:\n",
        "        return [(\"Insufficient Symptoms\", 0.0, \"General Practitioner\")]\n",
        "\n",
        "    predictions = []\n",
        "    for prob, idx in zip(top_probs, top_indices):\n",
        "        disease_index = idx.item()\n",
        "        confidence = prob.item()\n",
        "\n",
        "\n",
        "        try:\n",
        "            predicted_disease = label_encoder.inverse_transform([disease_index])[0]\n",
        "        except:\n",
        "            predicted_disease = \"Unknown\"\n",
        "\n",
        "        if predicted_disease in df['Disease'].values:\n",
        "            department = df[df['Disease']==predicted_disease]['Department'].values[0]\n",
        "        else:\n",
        "            department =  \"General Practitioner\"\n",
        "\n",
        "        predictions.append((predicted_disease, confidence, department))\n",
        "\n",
        "    return predictions\n"
      ],
      "metadata": {
        "id": "IFahBlpCcxkO"
      },
      "execution_count": 70,
      "outputs": []
    },
    {
      "cell_type": "code",
      "source": [
        "predicted_disease_en = label_encoder.inverse_transform([0])[0]\n",
        "predicted_disease_en"
      ],
      "metadata": {
        "colab": {
          "base_uri": "https://localhost:8080/",
          "height": 36
        },
        "id": "mZ-LuKaWWR1t",
        "outputId": "1828c7d3-b62b-42d1-82f5-427ae5ebc778"
      },
      "execution_count": 24,
      "outputs": [
        {
          "output_type": "execute_result",
          "data": {
            "text/plain": [
              "'abdominal aortic aneurysm'"
            ],
            "application/vnd.google.colaboratory.intrinsic+json": {
              "type": "string"
            }
          },
          "metadata": {},
          "execution_count": 24
        }
      ]
    },
    {
      "cell_type": "code",
      "source": [
        "predict_disease(\"My skin is itchy and I have a red rash\")"
      ],
      "metadata": {
        "colab": {
          "base_uri": "https://localhost:8080/"
        },
        "id": "Eh2r9tOfekft",
        "outputId": "47b9b00e-60da-44eb-cf09-d82ced9d542d"
      },
      "execution_count": 71,
      "outputs": [
        {
          "output_type": "execute_result",
          "data": {
            "text/plain": [
              "[('dyshidrosis', 0.4701314866542816, 'Dermatology'),\n",
              " ('fungal infection of the skin', 0.1351594477891922, 'Dermatology'),\n",
              " ('acariasis', 0.035483647137880325, 'Dermatology')]"
            ]
          },
          "metadata": {},
          "execution_count": 71
        }
      ]
    },
    {
      "cell_type": "code",
      "source": [
        "predict_disease(\"I feel deep bone pain that gets worse at night and affects my walking. I also feel very tired and have lost some weight recently\")"
      ],
      "metadata": {
        "colab": {
          "base_uri": "https://localhost:8080/"
        },
        "id": "PemuckPxgJIL",
        "outputId": "28d9101e-27a8-4623-de02-20ba9126aeb7"
      },
      "execution_count": 26,
      "outputs": [
        {
          "output_type": "execute_result",
          "data": {
            "text/plain": [
              "[('Insufficient Symptoms', 0.0, 'General Practitioner')]"
            ]
          },
          "metadata": {},
          "execution_count": 26
        }
      ]
    },
    {
      "cell_type": "code",
      "source": [
        "predict_disease('I feel shortness of breath and chest pain when walking')"
      ],
      "metadata": {
        "colab": {
          "base_uri": "https://localhost:8080/"
        },
        "id": "hURDmd9Fg7lD",
        "outputId": "bfc6b219-ca01-4da9-b027-268b22da3d09"
      },
      "execution_count": 72,
      "outputs": [
        {
          "output_type": "execute_result",
          "data": {
            "text/plain": [
              "[('pericarditis', 0.524592399597168, 'Cardiology'),\n",
              " ('aortic valve disease', 0.11649712175130844, 'Cardiology'),\n",
              " ('ischemic heart disease', 0.06809378415346146, 'Cardiology')]"
            ]
          },
          "metadata": {},
          "execution_count": 72
        }
      ]
    },
    {
      "cell_type": "code",
      "source": [
        "predict_disease('My throat is sore and I have trouble swallowing')"
      ],
      "metadata": {
        "colab": {
          "base_uri": "https://localhost:8080/"
        },
        "id": "-LmHx1cSlUte",
        "outputId": "499b1707-7daf-4a30-88cc-b4285494656f"
      },
      "execution_count": 28,
      "outputs": [
        {
          "output_type": "execute_result",
          "data": {
            "text/plain": [
              "[('peritonsillar abscess', 0.3588472902774811, 'ENT'),\n",
              " ('mucositis', 0.18835285305976868, 'Dentistry'),\n",
              " ('abscess of the pharynx', 0.1404564082622528, 'ENT')]"
            ]
          },
          "metadata": {},
          "execution_count": 28
        }
      ]
    },
    {
      "cell_type": "code",
      "source": [
        "#model.config.id2label.values()"
      ],
      "metadata": {
        "id": "O5LGAPM7cCfw"
      },
      "execution_count": null,
      "outputs": []
    },
    {
      "cell_type": "code",
      "source": [
        "def get_symptoms_from_audio(file_path):\n",
        "\n",
        "    print(get_ui_text(\"transcribing_audio\"))\n",
        "\n",
        "    if not os.path.exists(file_path):\n",
        "        print(get_ui_text(\"audio_file_not_found\", file_path=file_path))\n",
        "        return \"\", \"en\" # Return empty symptom and default lang\n",
        "\n",
        "    try:\n",
        "        result = speech_model.transcribe(file_path)\n",
        "        transcribed_text = result[\"text\"].strip()\n",
        "        detected_lang_of_speech = result.get(\"language\", \"en\")\n",
        "        print(get_ui_text(\"transcribed_text_label\", lang=detected_lang_of_speech, text=transcribed_text))\n",
        "\n",
        "        if not transcribed_text:\n",
        "            print(get_ui_text(\"transcription_empty\"))\n",
        "\n",
        "            return \"\", detected_lang_of_speech\n",
        "\n",
        "        symptoms_for_model = transcribed_text\n",
        "        if detected_lang_of_speech == \"ar\":\n",
        "            output=translate_arabic_to_medical_english(transcribed_text)\n",
        "            symptoms_for_model = output\n",
        "            print(get_ui_text(\"translated_to_en_label\", text=symptoms_for_model))\n",
        "\n",
        "        return symptoms_for_model, detected_lang_of_speech\n",
        "\n",
        "    except Exception as e:\n",
        "        print(get_ui_text(\"transcription_error_detailed\", e=str(e)))\n",
        "\n",
        "        return \"\", \"en\"\n"
      ],
      "metadata": {
        "id": "OXQYzKDHcxhi"
      },
      "execution_count": 91,
      "outputs": []
    },
    {
      "cell_type": "code",
      "source": [
        "# -- Text translations --\n",
        "\n",
        "ui_texts = {\n",
        "    \"en\": {\n",
        "        \"welcome\": \"👋 Welcome to AI Medical Diagnosis System!\",\n",
        "        \"input_method_prompt\": \"Would you like to enter symptoms as text or speech? (text/speech): \",\n",
        "        \"invalid_input_method\": \"Invalid input. Please type \\\"text\\\" or \\\"speech\\\".\",\n",
        "        \"speech_file_prompt\": \"🎙 Please provide the path to your recorded audio file: \",\n",
        "        \"audio_transcription_error\": \"Could not transcribe audio, audio was empty, or an error occurred. Please try again or switch to text.\",\n",
        "        \"no_audio_file\": \"No audio file path provided.\",\n",
        "        \"text_symptoms_prompt\": \"🩺 Please describe your symptoms: \",\n",
        "        \"symptoms_required\": \"\\nSymptoms are required to proceed. Please provide your symptoms.\",\n",
        "        \"must_provide_symptoms\": \"You must provide symptoms to continue.\",\n",
        "        \"insufficient_symptoms_msg\": \"\\n⚠️ Your symptoms are not specific enough for a diagnosis.\",\n",
        "        \"recommended_dept_insufficient\": \"🏥 Recommended Department: General Practitioner\",\n",
        "        \"provide_more_details\": \"💬 Please provide more details (e.g., duration, pain location, severity).\",\n",
        "        \"add_more_symptoms_prompt\": \"➕ Add more symptoms (or press Enter to stop): \",\n",
        "        \"diagnosis_results_header\": \"\\n✅ Diagnosis Results:\",\n",
        "        \"disease_label\": \"🩺 Disease: \",\n",
        "        \"confidence_label\": \" (confidence:{confidence:.2f})\",\n",
        "        \"recommended_dept_label\": \"   🏥 Recommended Department: \",\n",
        "        \"audio_file_not_found\": \"Audio file not found at: {file_path}\",\n",
        "        \"transcription_empty\": \"Transcription resulted in empty text.\",\n",
        "        \"transcription_error_detailed\": \"Error during audio transcription or translation: {e}\",\n",
        "        \"transcribing_audio\": \"🎤 Transcribing audio...\",\n",
        "        \"transcribed_text_label\": \"🗣 Transcribed Text ({lang}): {text}\",\n",
        "        \"translated_to_en_label\": \"🌍 Translated to English for model: {text}\",\n",
        "        \"detected_text_lang_label\": \"Detected input language (text): {lang}\",\n",
        "        \"lang_detection_error\": \"Could not detect language from text, assuming English for model. UI will use default.\",\n",
        "        \"session_lang_set_debug\": \"Session language locked to: {lang}\",\n",
        "        \"no_further_symptoms\": \"No further symptoms provided. Exiting diagnosis.\"\n",
        "\n",
        "    },\n",
        "    \"ar\": {\n",
        "        \"welcome\": \"👋 مرحبًا بك في نظام التشخيص الطبي بالذكاء الاصطناعي!\",\n",
        "        \"input_method_prompt\": \"هل ترغب في إدخال الأعراض كنص أم كلام؟ (text/speech): \",\n",
        "        \"invalid_input_method\": \"إدخال غير صالح. يرجى كتابة \\\"text\\\" أو \\\"speech\\\".\",\n",
        "        \"speech_file_prompt\": \"🎙 يرجى تقديم مسار ملفك الصوتي المسجل: \",\n",
        "        \"audio_transcription_error\": \"تعذر نسخ الصوت، أو كان الصوت فارغًا، أو حدث خطأ. يرجى المحاولة مرة أخرى أو التبديل إلى النص.\",\n",
        "        \"no_audio_file\": \"لم يتم تقديم مسار ملف صوتي.\",\n",
        "        \"text_symptoms_prompt\": \"🩺 يرجى وصف الأعراض الخاصة بك: \",\n",
        "        \"symptoms_required\": \"\\nالأعراض مطلوبة للمتابعة. يرجى تقديم الأعراض الخاصة بك.\",\n",
        "        \"must_provide_symptoms\": \"يجب عليك تقديم الأعراض للمتابعة.\",\n",
        "        \"insufficient_symptoms_msg\": \"\\n⚠️ الأعراض التي قدمتها ليست محددة بما يكفي للتشخيص.\",\n",
        "        \"recommended_dept_insufficient\": \"🏥 القسم الموصى به: طبيب عام\",\n",
        "        \"provide_more_details\": \"💬 يرجى تقديم مزيد من التفاصيل (مثل المدة، مكان الألم، الشدة).\",\n",
        "        \"add_more_symptoms_prompt\": \"➕ أضف المزيد من الأعراض (أو اضغط على Enter للتوقف): \",\n",
        "        \"diagnosis_results_header\": \"\\n✅ نتائج التشخيص:\",\n",
        "        \"disease_label\": \"🩺 المرض: \",\n",
        "        \"confidence_label\": \" (الثقة: {confidence:.2f})\",\n",
        "        \"recommended_dept_label\": \"   🏥 القسم الموصى به: \",\n",
        "        \"audio_file_not_found\": \"لم يتم العثور على الملف الصوتي في: {file_path}\",\n",
        "        \"transcription_empty\": \"أسفر النسخ عن نص فارغ.\",\n",
        "        \"transcription_error_detailed\": \"خطأ أثناء نسخ الصوت أو الترجمة: {e}\",\n",
        "        \"transcribing_audio\": \"🎤 جاري نسخ الصوت...\",\n",
        "        \"transcribed_text_label\": \"🗣 النص المنسوخ ({lang}): {text}\",\n",
        "        \"translated_to_en_label\": \"🌍 تمت الترجمة إلى الإنجليزية للنموذج: {text}\",\n",
        "        \"detected_text_lang_label\": \"تم اكتشاف لغة الإدخال (النص): {lang}\",\n",
        "        \"lang_detection_error\": \"لم نتمكن من تحديد اللغة من النص، سنفترض الإنجليزية للنموذج. ستستخدم الواجهة اللغة الافتراضية.\",\n",
        "        \"session_lang_set_debug\": \"تم تثبيت لغة الجلسة على: {lang}\",\n",
        "        \"no_further_symptoms\": \"لم يتم تقديم المزيد من الأعراض. إنهاء التشخيص.\"\n",
        "    }\n",
        "}"
      ],
      "metadata": {
        "id": "ziZggRbxqSp7"
      },
      "execution_count": 30,
      "outputs": []
    },
    {
      "cell_type": "code",
      "source": [
        "def get_ui_text(key, **kwargs):\n",
        "    global SESSION_OUTPUT_LANGUAGE\n",
        "    #return ui_texts.get(SESSION_OUTPUT_LANGUAGE, ui_texts[\"en\"]).get(key, key).format(**kwargs)\n",
        "\n",
        "    template = ui_texts.get(SESSION_OUTPUT_LANGUAGE, ui_texts[\"en\"]).get(key, key)\n",
        "    try:\n",
        "      return template.format(**kwargs)\n",
        "    except (IndexError, KeyError):\n",
        "      return template"
      ],
      "metadata": {
        "id": "ocXko-gXqaee"
      },
      "execution_count": 43,
      "outputs": []
    },
    {
      "cell_type": "code",
      "source": [
        "def set_session_language_if_not_locked(detected_language_code):\n",
        "    global SESSION_OUTPUT_LANGUAGE, SESSION_LANGUAGE_LOCKED\n",
        "    if not SESSION_LANGUAGE_LOCKED:\n",
        "        if detected_language_code == \"ar\":\n",
        "            SESSION_OUTPUT_LANGUAGE = \"ar\"\n",
        "        else:\n",
        "            SESSION_OUTPUT_LANGUAGE = \"en\"\n",
        "        SESSION_LANGUAGE_LOCKED = True\n",
        "        # print(get_ui_text(\"session_lang_set_debug\", lang=SESSION_OUTPUT_LANGUAGE)) # For debugging"
      ],
      "metadata": {
        "id": "scNA6Wd3jPqR"
      },
      "execution_count": 32,
      "outputs": []
    },
    {
      "cell_type": "code",
      "source": [
        "def interactive_diagnosis():\n",
        "    global SESSION_OUTPUT_LANGUAGE, SESSION_LANGUAGE_LOCKED\n",
        "    SESSION_LANGUAGE_LOCKED = False\n",
        "    SESSION_OUTPUT_LANGUAGE = \"en\"\n",
        "\n",
        "    print(get_ui_text(\"welcome\"))\n",
        "\n",
        "    input_method = \"\"\n",
        "    while input_method not in [\"text\", \"speech\"]:\n",
        "        input_method = input(get_ui_text(\"input_method_prompt\")).strip().lower()\n",
        "        if input_method not in [\"text\", \"speech\"]:\n",
        "            print(get_ui_text(\"invalid_input_method\"))\n",
        "\n",
        "    accumulated_symptoms_for_model = \"\"\n",
        "    initial_symptoms_obtained = False\n",
        "\n",
        "    while not initial_symptoms_obtained:\n",
        "        current_symptoms_for_model_segment = \"\"\n",
        "        detected_lang_for_segment = \"en\"\n",
        "\n",
        "        if input_method == \"speech\":\n",
        "            file_path = input(get_ui_text(\"speech_file_prompt\")).strip()\n",
        "            if file_path:\n",
        "                current_symptoms_for_model_segment, detected_lang_for_segment = get_symptoms_from_audio(file_path)\n",
        "                if not current_symptoms_for_model_segment:\n",
        "                    print(get_ui_text(\"audio_transcription_error\"))\n",
        "            else:\n",
        "                print(get_ui_text(\"no_audio_file\"))\n",
        "        elif input_method == \"text\":\n",
        "            raw_symptoms = input(get_ui_text(\"text_symptoms_prompt\")).strip()\n",
        "            if raw_symptoms:\n",
        "                try:\n",
        "                    detected_lang_for_segment = detect(raw_symptoms)\n",
        "                    print(get_ui_text(\"detected_text_lang_label\" , lang=detected_lang_for_segment))\n",
        "                    if detected_lang_for_segment == \"ar\":\n",
        "                        output=translate_arabic_to_medical_english(raw_symptoms)\n",
        "                        current_symptoms_for_model_segment = output\n",
        "                        print(get_ui_text(\"translated_to_en_label\", text=current_symptoms_for_model_segment))\n",
        "                    else:\n",
        "                        current_symptoms_for_model_segment = raw_symptoms\n",
        "                except LangDetectException:\n",
        "                    print(get_ui_text(\"lang_detection_error\"))\n",
        "                    detected_lang_for_segment = \"en\" # Default to English for UI if detection fails\n",
        "                    current_symptoms_for_model_segment = raw_symptoms\n",
        "            else:\n",
        "                 print(get_ui_text(\"symptoms_required\")) # if no text symptoms entered\n",
        "\n",
        "        if current_symptoms_for_model_segment:\n",
        "            set_session_language_if_not_locked(detected_lang_for_segment)\n",
        "            accumulated_symptoms_for_model += \" \"+current_symptoms_for_model_segment\n",
        "            initial_symptoms_obtained = True\n",
        "        else:\n",
        "            print(get_ui_text(\"must_provide_symptoms\"))\n",
        "\n",
        "    #diagnosis loop - accumulates symptoms\n",
        "    while True:\n",
        "        if not accumulated_symptoms_for_model.strip():\n",
        "\n",
        "            print(get_ui_text(\"must_provide_symptoms\"))\n",
        "            break\n",
        "\n",
        "        predictions_en = predict_disease(accumulated_symptoms_for_model)\n",
        "\n",
        "        if predictions_en[0][0] == \"Insufficient Symptoms\":\n",
        "            print(get_ui_text(\"insufficient_symptoms_msg\"))\n",
        "            print(get_ui_text(\"recommended_dept_insufficient\"))\n",
        "            print(get_ui_text(\"provide_more_details\"))\n",
        "            more_info_raw = input(get_ui_text(\"add_more_symptoms_prompt\")).strip()\n",
        "\n",
        "            if not more_info_raw:\n",
        "                print(get_ui_text(\"no_further_symptoms\"))\n",
        "                 # Instead of breaking, get the current best predictions even if confidence is low\n",
        "                predictions_en = predict_disease(accumulated_symptoms_for_model, threshold=0)\n",
        "                print(get_ui_text(\"diagnosis_results_header\"))\n",
        "                for i, (disease_en, confidence, department_en) in enumerate(predictions_en):\n",
        "                    disease_display = disease_en\n",
        "                    department_display = department_en\n",
        "                    if SESSION_OUTPUT_LANGUAGE == \"ar\":\n",
        "                        if disease_en in df['Disease'].values:\n",
        "                            disease_display=df[df['Disease']==disease_en]['arabic_disease'].values[0]\n",
        "                        else:\n",
        "                             disease_display =  \"not found\"\n",
        "                        #disease_display = translate_with_model(disease_en, \"ar\", \"en\")\n",
        "                        department_display = department_translations.get(department_en, department_en)\n",
        "\n",
        "                    print(f\"{i+1}. {get_ui_text('disease_label')}{disease_display}{get_ui_text('confidence_label', confidence=confidence)}\")\n",
        "                    print(f\"   {get_ui_text('recommended_dept_label')}{department_display}\\n\")\n",
        "                break\n",
        "\n",
        "            more_symptoms_en = more_info_raw\n",
        "            try:\n",
        "\n",
        "                lang_of_more_info = detect(more_info_raw)\n",
        "                if lang_of_more_info == \"ar\":\n",
        "                    output=translate_arabic_to_medical_english(more_info_raw)\n",
        "                    more_symptoms_en = output\n",
        "                    print(get_ui_text(\"translated_to_en_label\", text=current_symptoms_for_model_segment))\n",
        "                    # Optional: print translation confirmation for additional symptoms\n",
        "                    print(f\"(Additional symptoms translated to EN: {more_symptoms_en})\")\n",
        "            except LangDetectException:\n",
        "                print(get_ui_text(\"lang_detection_error\"))\n",
        "                detected_lang_for_segment = \"en\"\n",
        "\n",
        "\n",
        "            accumulated_symptoms_for_model += \" \" + more_symptoms_en.strip()\n",
        "            print(f\"(Updated symptoms for model: {accumulated_symptoms_for_model})\")\n",
        "        else:\n",
        "            print(get_ui_text(\"diagnosis_results_header\"))\n",
        "            for i, (disease_en, confidence, department_en) in enumerate(predictions_en):\n",
        "                disease_display = disease_en\n",
        "                department_display = department_en\n",
        "\n",
        "                if SESSION_OUTPUT_LANGUAGE == \"ar\":\n",
        "                    if disease_en in df['Disease'].values:\n",
        "                        disease_display=df[df['Disease']==disease_en]['arabic_disease'].values[0]\n",
        "                    else:\n",
        "                        disease_display =  \"not found\"\n",
        "                    #disease_display = translate_with_model(disease_en, \"ar\", \"en\")\n",
        "                    department_display = department_translations.get(department_en, department_en)\n",
        "\n",
        "\n",
        "                print(f\"{i+1}. {get_ui_text('disease_label')}{disease_display}{get_ui_text('confidence_label', confidence=confidence)}\")\n",
        "                print(f\"   {get_ui_text('recommended_dept_label')}{department_display}\\n\")\n",
        "\n",
        "            break\n"
      ],
      "metadata": {
        "id": "TqJ-Q7POcxXJ"
      },
      "execution_count": 92,
      "outputs": []
    },
    {
      "cell_type": "code",
      "source": [],
      "metadata": {
        "id": "lGH_y1MSWBIX"
      },
      "execution_count": null,
      "outputs": []
    },
    {
      "cell_type": "code",
      "source": [
        "interactive_diagnosis()"
      ],
      "metadata": {
        "colab": {
          "base_uri": "https://localhost:8080/"
        },
        "id": "myV-Yi1hdL9L",
        "outputId": "1e92a6fe-264d-42cb-b492-27e39799ee12"
      },
      "execution_count": 79,
      "outputs": [
        {
          "output_type": "stream",
          "name": "stdout",
          "text": [
            "👋 Welcome to AI Medical Diagnosis System!\n",
            "Would you like to enter symptoms as text or speech? (text/speech): text\n",
            "🩺 Please describe your symptoms: زورى وجعانى وعندى احتقان\n",
            "Detected input language (text): ar\n",
            "🌍 Translated to English for model: Sore throat, pharyngeal congestion\n",
            "\n",
            "✅ نتائج التشخيص:\n",
            "1. 🩺 المرض: القلاع الفموي (عدوى الخميرة) (الثقة: 0.61)\n",
            "      🏥 القسم الموصى به: طب الاسنان \n",
            "\n",
            "2. 🩺 المرض: التهاب الجيوب الأنفية الحاد (الثقة: 0.08)\n",
            "      🏥 القسم الموصى به: انف واذن وحنجره\n",
            "\n",
            "3. 🩺 المرض: خراج الأنف (الثقة: 0.04)\n",
            "      🏥 القسم الموصى به: انف واذن وحنجره\n",
            "\n"
          ]
        }
      ]
    },
    {
      "cell_type": "code",
      "source": [
        "if __name__ == \"__main__\":\n",
        "\n",
        "     interactive_diagnosis()\n"
      ],
      "metadata": {
        "id": "kd-D-5oEWrO6",
        "colab": {
          "base_uri": "https://localhost:8080/"
        },
        "outputId": "783b4165-e11a-4592-827b-1f4772de0565"
      },
      "execution_count": 96,
      "outputs": [
        {
          "output_type": "stream",
          "name": "stdout",
          "text": [
            "👋 Welcome to AI Medical Diagnosis System!\n",
            "Would you like to enter symptoms as text or speech? (text/speech): text\n",
            "🩺 Please describe your symptoms: Dull, aching pain in the front of the knee, often behind or around the kneecap,Pain that worsens when going up or down stairs\n",
            "Detected input language (text): en\n",
            "\n",
            "⚠️ Your symptoms are not specific enough for a diagnosis.\n",
            "🏥 Recommended Department: General Practitioner\n",
            "💬 Please provide more details (e.g., duration, pain location, severity).\n",
            "➕ Add more symptoms (or press Enter to stop): Tenderness over the kneecap\n",
            "(Updated symptoms for model:  Dull, aching pain in the front of the knee, often behind or around the kneecap,Pain that worsens when going up or down stairs Tenderness over the kneecap)\n",
            "\n",
            "⚠️ Your symptoms are not specific enough for a diagnosis.\n",
            "🏥 Recommended Department: General Practitioner\n",
            "💬 Please provide more details (e.g., duration, pain location, severity).\n",
            "➕ Add more symptoms (or press Enter to stop): Feeling of the knee \"giving way\" or buckling\n",
            "(Updated symptoms for model:  Dull, aching pain in the front of the knee, often behind or around the kneecap,Pain that worsens when going up or down stairs Tenderness over the kneecap Feeling of the knee \"giving way\" or buckling)\n",
            "\n",
            "✅ Diagnosis Results:\n",
            "1. 🩺 Disease: injury to the leg (confidence:0.55)\n",
            "      🏥 Recommended Department: Orthopedics\n",
            "\n",
            "2. 🩺 Disease: joint effusion (confidence:0.05)\n",
            "      🏥 Recommended Department: Orthopedics\n",
            "\n",
            "3. 🩺 Disease: gout (confidence:0.02)\n",
            "      🏥 Recommended Department: Rheumatology\n",
            "\n"
          ]
        }
      ]
    },
    {
      "cell_type": "code",
      "source": [
        "if __name__ == \"__main__\":\n",
        "\n",
        "     interactive_diagnosis()"
      ],
      "metadata": {
        "colab": {
          "base_uri": "https://localhost:8080/"
        },
        "id": "FN9j_vtiSo3g",
        "outputId": "c5a20189-3c9b-4578-a1f1-d96745e5d05b"
      },
      "execution_count": 80,
      "outputs": [
        {
          "output_type": "stream",
          "name": "stdout",
          "text": [
            "👋 Welcome to AI Medical Diagnosis System!\n",
            "Would you like to enter symptoms as text or speech? (text/speech): text\n",
            "🩺 Please describe your symptoms: My throat is sore and I have trouble swallowing\n",
            "Detected input language (text): en\n",
            "\n",
            "✅ Diagnosis Results:\n",
            "1. 🩺 Disease: peritonsillar abscess (confidence:0.36)\n",
            "      🏥 Recommended Department: ENT\n",
            "\n",
            "2. 🩺 Disease: mucositis (confidence:0.19)\n",
            "      🏥 Recommended Department: Dentistry\n",
            "\n",
            "3. 🩺 Disease: abscess of the pharynx (confidence:0.14)\n",
            "      🏥 Recommended Department: ENT\n",
            "\n"
          ]
        }
      ]
    },
    {
      "cell_type": "code",
      "source": [
        "if __name__ == \"__main__\":\n",
        "\n",
        "    interactive_diagnosis()"
      ],
      "metadata": {
        "colab": {
          "base_uri": "https://localhost:8080/"
        },
        "id": "_GlC7I_MXJvR",
        "outputId": "c635b7d7-6b73-4fe8-c08d-007c97d525d1"
      },
      "execution_count": 95,
      "outputs": [
        {
          "output_type": "stream",
          "name": "stdout",
          "text": [
            "👋 Welcome to AI Medical Diagnosis System!\n",
            "Would you like to enter symptoms as text or speech? (text/speech): text\n",
            "🩺 Please describe your symptoms: صداع وضيق في التنفس و غثيان و قيء\n",
            "Detected input language (text): ar\n",
            "🌍 Translated to English for model: headache, shortness of breath, nausea, vomiting\n",
            "\n",
            "✅ نتائج التشخيص:\n",
            "1. 🩺 المرض: فرط بوتاسيوم الدم (الثقة: 0.48)\n",
            "      🏥 القسم الموصى به: أمراض الكلى\n",
            "\n",
            "2. 🩺 المرض: نقص بوتاسيوم الدم (الثقة: 0.08)\n",
            "      🏥 القسم الموصى به: أمراض الكلى\n",
            "\n",
            "3. 🩺 المرض: رد فعل المخدرات (الثقة: 0.07)\n",
            "      🏥 القسم الموصى به: حساسيه\n",
            "\n"
          ]
        }
      ]
    },
    {
      "cell_type": "code",
      "source": [
        "## old excute from old code"
      ],
      "metadata": {
        "id": "_AIuSPF6P6F5"
      },
      "execution_count": null,
      "outputs": []
    },
    {
      "cell_type": "code",
      "source": [
        "interactive_diagnosis()\n"
      ],
      "metadata": {
        "colab": {
          "base_uri": "https://localhost:8080/"
        },
        "id": "kEH8bsE_dm_-",
        "outputId": "26b3bc6e-295f-4cf9-883f-6d9fa0396caf"
      },
      "execution_count": 99,
      "outputs": [
        {
          "output_type": "stream",
          "name": "stdout",
          "text": [
            "👋 Welcome to AI Medical Diagnosis System!\n",
            "Would you like to enter symptoms as text or speech? (text/speech): text\n",
            "🩺 Please describe your symptoms: Headache  • Dizziness  • Tiredness (Fatigue)  • Blurred vision  • Itchiness\n",
            "Detected input language (text): en\n",
            "\n",
            "⚠️ Your symptoms are not specific enough for a diagnosis.\n",
            "🏥 Recommended Department: General Practitioner\n",
            "💬 Please provide more details (e.g., duration, pain location, severity).\n",
            "➕ Add more symptoms (or press Enter to stop): Numbness, tingling, burning, or weakness in hands\n",
            "(Updated symptoms for model:  Headache  • Dizziness  • Tiredness (Fatigue)  • Blurred vision  • Itchiness Numbness, tingling, burning, or weakness in hands)\n",
            "\n",
            "⚠️ Your symptoms are not specific enough for a diagnosis.\n",
            "🏥 Recommended Department: General Practitioner\n",
            "💬 Please provide more details (e.g., duration, pain location, severity).\n",
            "➕ Add more symptoms (or press Enter to stop): Feeling full quickly after eating\n",
            "(Updated symptoms for model:  Headache  • Dizziness  • Tiredness (Fatigue)  • Blurred vision  • Itchiness Numbness, tingling, burning, or weakness in hands Feeling full quickly after eating)\n",
            "\n",
            "⚠️ Your symptoms are not specific enough for a diagnosis.\n",
            "🏥 Recommended Department: General Practitioner\n",
            "💬 Please provide more details (e.g., duration, pain location, severity).\n",
            "➕ Add more symptoms (or press Enter to stop): Shortness of breath (especially when lying down)  • Bone pain\n",
            "(Updated symptoms for model:  Headache  • Dizziness  • Tiredness (Fatigue)  • Blurred vision  • Itchiness Numbness, tingling, burning, or weakness in hands Feeling full quickly after eating Shortness of breath (especially when lying down)  • Bone pain)\n",
            "\n",
            "✅ Diagnosis Results:\n",
            "1. 🩺 Disease: concussion (confidence:0.43)\n",
            "      🏥 Recommended Department: Neurosurgery\n",
            "\n",
            "2. 🩺 Disease: sinus bradycardia (confidence:0.09)\n",
            "      🏥 Recommended Department: Cardiology\n",
            "\n",
            "3. 🩺 Disease: narcolepsy (confidence:0.06)\n",
            "      🏥 Recommended Department: Neurology\n",
            "\n"
          ]
        }
      ]
    },
    {
      "cell_type": "code",
      "source": [
        "interactive_diagnosis()"
      ],
      "metadata": {
        "colab": {
          "base_uri": "https://localhost:8080/"
        },
        "id": "Ht_WwEEvcRk-",
        "outputId": "644e4e7f-490a-4a9d-caa5-1a84c6708c41"
      },
      "execution_count": 100,
      "outputs": [
        {
          "output_type": "stream",
          "name": "stdout",
          "text": [
            "👋 Welcome to AI Medical Diagnosis System!\n",
            "Would you like to enter symptoms as text or speech? (text/speech): text\n",
            "🩺 Please describe your symptoms: Euphoria or feeling \"high\"  • Drowsiness, nodding off (\"on the nod\")  • Slowed breathing (respiratory depression - dangerous)  • Small, constricted pupils (\"pinpoint pupils\")  • Confusion\n",
            "Detected input language (text): en\n",
            "\n",
            "⚠️ Your symptoms are not specific enough for a diagnosis.\n",
            "🏥 Recommended Department: General Practitioner\n",
            "💬 Please provide more details (e.g., duration, pain location, severity).\n",
            "➕ Add more symptoms (or press Enter to stop): Slurred speech  • Poor coordination  • Nausea, vomiting  • Constipation  • Itching\n",
            "(Updated symptoms for model:  Euphoria or feeling \"high\"  • Drowsiness, nodding off (\"on the nod\")  • Slowed breathing (respiratory depression - dangerous)  • Small, constricted pupils (\"pinpoint pupils\")  • Confusion Slurred speech  • Poor coordination  • Nausea, vomiting  • Constipation  • Itching)\n",
            "\n",
            "⚠️ Your symptoms are not specific enough for a diagnosis.\n",
            "🏥 Recommended Department: General Practitioner\n",
            "💬 Please provide more details (e.g., duration, pain location, severity).\n",
            "➕ Add more symptoms (or press Enter to stop): Intense cravings for the drug\n",
            "(Updated symptoms for model:  Euphoria or feeling \"high\"  • Drowsiness, nodding off (\"on the nod\")  • Slowed breathing (respiratory depression - dangerous)  • Small, constricted pupils (\"pinpoint pupils\")  • Confusion Slurred speech  • Poor coordination  • Nausea, vomiting  • Constipation  • Itching Intense cravings for the drug)\n",
            "\n",
            "⚠️ Your symptoms are not specific enough for a diagnosis.\n",
            "🏥 Recommended Department: General Practitioner\n",
            "💬 Please provide more details (e.g., duration, pain location, severity).\n",
            "➕ Add more symptoms (or press Enter to stop): \n",
            "No further symptoms provided. Exiting diagnosis.\n",
            "\n",
            "✅ Diagnosis Results:\n",
            "1. 🩺 Disease: stroke (confidence:0.23)\n",
            "      🏥 Recommended Department: Neurology\n",
            "\n",
            "2. 🩺 Disease: delirium (confidence:0.12)\n",
            "      🏥 Recommended Department: Psychiatry\n",
            "\n",
            "3. 🩺 Disease: acute bronchiolitis (confidence:0.06)\n",
            "      🏥 Recommended Department: Pediatrics\n",
            "\n"
          ]
        }
      ]
    },
    {
      "cell_type": "code",
      "source": [
        "interactive_diagnosis()"
      ],
      "metadata": {
        "colab": {
          "base_uri": "https://localhost:8080/"
        },
        "id": "cMWwthq5c0oJ",
        "outputId": "929ece4b-cdae-4472-fa7c-8d1281f85a8f"
      },
      "execution_count": 101,
      "outputs": [
        {
          "output_type": "stream",
          "name": "stdout",
          "text": [
            "👋 Welcome to AI Medical Diagnosis System!\n",
            "Would you like to enter symptoms as text or speech? (text/speech): text\n",
            "🩺 Please describe your symptoms: Itchiness, mostly after a warm bath or shower. Numbness, tingling, burning or weakness in the hands, feet, arms or legs. A feeling of fullness soon after eating. Bloating or pain in the left upper stomach area due to an enlarged spleen. Unusual bleeding, such as a nosebleed or bleeding gums. Painful swelling of one joint, often the big toe. Shortness of breath and trouble breathing when lying down. Bone pain.\n",
            "Detected input language (text): en\n",
            "\n",
            "✅ Diagnosis Results:\n",
            "1. 🩺 Disease: peripheral arterial disease (confidence:0.64)\n",
            "      🏥 Recommended Department: Vascular Surgery\n",
            "\n",
            "2. 🩺 Disease: pancreatic cancer (confidence:0.03)\n",
            "      🏥 Recommended Department: Oncology\n",
            "\n",
            "3. 🩺 Disease: primary immunodeficiency (confidence:0.03)\n",
            "      🏥 Recommended Department: Immunology\n",
            "\n"
          ]
        }
      ]
    },
    {
      "cell_type": "code",
      "source": [
        "interactive_diagnosis()"
      ],
      "metadata": {
        "id": "4gD_YGJ4f7Fp",
        "colab": {
          "base_uri": "https://localhost:8080/"
        },
        "outputId": "6549320e-ab6c-4536-eb05-b9179522537d"
      },
      "execution_count": 93,
      "outputs": [
        {
          "output_type": "stream",
          "name": "stdout",
          "text": [
            "👋 Welcome to AI Medical Diagnosis System!\n",
            "Would you like to enter symptoms as text or speech? (text/speech): speech\n",
            "🎙 Please provide the path to your recorded audio file: /content/13.56.59_50a5128c.waptt.opus\n",
            "🎤 Transcribing audio...\n"
          ]
        },
        {
          "output_type": "stream",
          "name": "stderr",
          "text": [
            "/usr/local/lib/python3.11/dist-packages/whisper/transcribe.py:126: UserWarning: FP16 is not supported on CPU; using FP32 instead\n",
            "  warnings.warn(\"FP16 is not supported on CPU; using FP32 instead\")\n"
          ]
        },
        {
          "output_type": "stream",
          "name": "stdout",
          "text": [
            "🗣 Transcribed Text (ar): أنا عندي كحة وسخونية شديدة مع رشح\n",
            "🌍 Translated to English for model: cough, high fever, rhinorrhea\n",
            "\n",
            "✅ نتائج التشخيص:\n",
            "1. 🩺 المرض: متلازمة التسنين (الثقة: 0.91)\n",
            "      🏥 القسم الموصى به: طب الأطفال\n",
            "\n",
            "2. 🩺 المرض: طفح حفاضات (الثقة: 0.02)\n",
            "      🏥 القسم الموصى به: امراض جلدية وتجميلية\n",
            "\n",
            "3. 🩺 المرض: مرض خلايا الدم البيضاء (الثقة: 0.01)\n",
            "      🏥 القسم الموصى به: أمراض الدم\n",
            "\n"
          ]
        }
      ]
    },
    {
      "cell_type": "code",
      "source": [
        "interactive_diagnosis()"
      ],
      "metadata": {
        "id": "YVxDKujivKPM",
        "colab": {
          "base_uri": "https://localhost:8080/"
        },
        "outputId": "2e6355d3-3ae6-4807-ec65-54235d847e65"
      },
      "execution_count": 94,
      "outputs": [
        {
          "output_type": "stream",
          "name": "stdout",
          "text": [
            "👋 Welcome to AI Medical Diagnosis System!\n",
            "Would you like to enter symptoms as text or speech? (text/speech): speech\n",
            "🎙 Please provide the path to your recorded audio file: /content/at 22.00.16_6577fe4a.waptt.opus\n",
            "🎤 Transcribing audio...\n"
          ]
        },
        {
          "output_type": "stream",
          "name": "stderr",
          "text": [
            "/usr/local/lib/python3.11/dist-packages/whisper/transcribe.py:126: UserWarning: FP16 is not supported on CPU; using FP32 instead\n",
            "  warnings.warn(\"FP16 is not supported on CPU; using FP32 instead\")\n"
          ]
        },
        {
          "output_type": "stream",
          "name": "stdout",
          "text": [
            "🗣 Transcribed Text (ar): مشرق في الشارع مش متركزة العرق بيصب منك مصدعة مغا وجعيها مهمدة عصبها مرخية مرخية ورجليتي بتوجعك مشر\n",
            "🌍 Translated to English for model: Difficulty concentrating, profuse sweating, headache, abdominal cramps, fatigue, generalized weakness, leg pain\n",
            "\n",
            "✅ نتائج التشخيص:\n",
            "1. 🩺 المرض: متلازمة الساق المضطربة (الثقة: 0.72)\n",
            "      🏥 القسم الموصى به: أمراض الأعصاب\n",
            "\n",
            "2. 🩺 المرض: رد فعل الإجهاد الحاد (الثقة: 0.07)\n",
            "      🏥 القسم الموصى به: الطب النفسي\n",
            "\n",
            "3. 🩺 المرض: صداع التوتر (الثقة: 0.01)\n",
            "      🏥 القسم الموصى به: أمراض الأعصاب\n",
            "\n"
          ]
        }
      ]
    },
    {
      "cell_type": "code",
      "source": [
        "interactive_diagnosis()"
      ],
      "metadata": {
        "colab": {
          "base_uri": "https://localhost:8080/"
        },
        "id": "FNJY6aXFdw8B",
        "outputId": "b8f3da3b-9621-417d-e09d-693e91e65eee"
      },
      "execution_count": 104,
      "outputs": [
        {
          "output_type": "stream",
          "name": "stdout",
          "text": [
            "👋 Welcome to AI Medical Diagnosis System!\n",
            "Would you like to enter symptoms as text or speech? (text/speech): text\n",
            "🩺 Please describe your symptoms: There's this area down there that just won't stop itching. It feels sore too. I looked, and the skin looks kind of thick and maybe a bit lighter in color than the rest. It's been going on for weeks\n",
            "Detected input language (text): en\n",
            "\n",
            "⚠️ Your symptoms are not specific enough for a diagnosis.\n",
            "🏥 Recommended Department: General Practitioner\n",
            "💬 Please provide more details (e.g., duration, pain location, severity).\n",
            "➕ Add more symptoms (or press Enter to stop): \n",
            "No further symptoms provided. Exiting diagnosis.\n",
            "\n",
            "✅ Diagnosis Results:\n",
            "1. 🩺 Disease: acne (confidence:0.11)\n",
            "      🏥 Recommended Department: Dermatology\n",
            "\n",
            "2. 🩺 Disease: seborrheic dermatitis (confidence:0.06)\n",
            "      🏥 Recommended Department: Dermatology\n",
            "\n",
            "3. 🩺 Disease: onychomycosis (confidence:0.05)\n",
            "      🏥 Recommended Department: Dermatology\n",
            "\n"
          ]
        }
      ]
    },
    {
      "cell_type": "code",
      "source": [],
      "metadata": {
        "id": "HC-xhLajeF-_"
      },
      "execution_count": null,
      "outputs": []
    }
  ]
}